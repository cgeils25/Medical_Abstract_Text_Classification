{
 "cells": [
  {
   "cell_type": "code",
   "execution_count": 1,
   "id": "20458b82-e401-48d5-a76b-7c0477b85941",
   "metadata": {},
   "outputs": [],
   "source": [
    "import torch\n",
    "import torch.nn as nn\n",
    "from torch.utils.data import Dataset, DataLoader\n",
    "import torch.nn.functional as F\n",
    "\n",
    "import pandas as pd\n",
    "import numpy as np\n",
    "import matplotlib.pyplot as plt\n",
    "import seaborn as sns\n",
    "import math\n",
    "import time\n",
    "from tqdm import tqdm\n",
    "import pdb\n",
    "import os\n",
    "\n",
    "from transformers import BertTokenizer, BertModel, AdamW, get_linear_schedule_with_warmup, AutoTokenizer, AutoModel\n",
    "from sklearn.model_selection import train_test_split\n",
    "from sklearn.metrics import accuracy_score, classification_report"
   ]
  },
  {
   "cell_type": "markdown",
   "id": "a3e32232-9b31-423c-85eb-c738920439de",
   "metadata": {},
   "source": [
    "# Getting Data"
   ]
  },
  {
   "cell_type": "code",
   "execution_count": 2,
   "id": "7310daca-e17b-42aa-9b4f-5c8892e44f9d",
   "metadata": {},
   "outputs": [
    {
     "data": {
      "text/html": [
       "<div>\n",
       "<style scoped>\n",
       "    .dataframe tbody tr th:only-of-type {\n",
       "        vertical-align: middle;\n",
       "    }\n",
       "\n",
       "    .dataframe tbody tr th {\n",
       "        vertical-align: top;\n",
       "    }\n",
       "\n",
       "    .dataframe thead th {\n",
       "        text-align: right;\n",
       "    }\n",
       "</style>\n",
       "<table border=\"1\" class=\"dataframe\">\n",
       "  <thead>\n",
       "    <tr style=\"text-align: right;\">\n",
       "      <th></th>\n",
       "      <th>condition_label</th>\n",
       "      <th>condition_name</th>\n",
       "    </tr>\n",
       "  </thead>\n",
       "  <tbody>\n",
       "    <tr>\n",
       "      <th>0</th>\n",
       "      <td>1</td>\n",
       "      <td>neoplasms</td>\n",
       "    </tr>\n",
       "    <tr>\n",
       "      <th>1</th>\n",
       "      <td>2</td>\n",
       "      <td>digestive system diseases</td>\n",
       "    </tr>\n",
       "    <tr>\n",
       "      <th>2</th>\n",
       "      <td>3</td>\n",
       "      <td>nervous system diseases</td>\n",
       "    </tr>\n",
       "    <tr>\n",
       "      <th>3</th>\n",
       "      <td>4</td>\n",
       "      <td>cardiovascular diseases</td>\n",
       "    </tr>\n",
       "    <tr>\n",
       "      <th>4</th>\n",
       "      <td>5</td>\n",
       "      <td>general pathological conditions</td>\n",
       "    </tr>\n",
       "  </tbody>\n",
       "</table>\n",
       "</div>"
      ],
      "text/plain": [
       "   condition_label                   condition_name\n",
       "0                1                        neoplasms\n",
       "1                2        digestive system diseases\n",
       "2                3          nervous system diseases\n",
       "3                4          cardiovascular diseases\n",
       "4                5  general pathological conditions"
      ]
     },
     "execution_count": 2,
     "metadata": {},
     "output_type": "execute_result"
    }
   ],
   "source": [
    "# obtaining condition labels\n",
    "labels_path = 'data/medical_abstracts_TC_corpus/medical_tc_labels.csv'\n",
    "df_labels = pd.read_csv(labels_path)\n",
    "df_labels"
   ]
  },
  {
   "cell_type": "code",
   "execution_count": 3,
   "id": "836e21a2-5b0b-46c6-a981-fdf4259cfeff",
   "metadata": {},
   "outputs": [
    {
     "data": {
      "text/html": [
       "<div>\n",
       "<style scoped>\n",
       "    .dataframe tbody tr th:only-of-type {\n",
       "        vertical-align: middle;\n",
       "    }\n",
       "\n",
       "    .dataframe tbody tr th {\n",
       "        vertical-align: top;\n",
       "    }\n",
       "\n",
       "    .dataframe thead th {\n",
       "        text-align: right;\n",
       "    }\n",
       "</style>\n",
       "<table border=\"1\" class=\"dataframe\">\n",
       "  <thead>\n",
       "    <tr style=\"text-align: right;\">\n",
       "      <th></th>\n",
       "      <th>condition_label</th>\n",
       "      <th>medical_abstract</th>\n",
       "    </tr>\n",
       "  </thead>\n",
       "  <tbody>\n",
       "    <tr>\n",
       "      <th>0</th>\n",
       "      <td>5</td>\n",
       "      <td>Tissue changes around loose prostheses. A cani...</td>\n",
       "    </tr>\n",
       "    <tr>\n",
       "      <th>1</th>\n",
       "      <td>1</td>\n",
       "      <td>Neuropeptide Y and neuron-specific enolase lev...</td>\n",
       "    </tr>\n",
       "    <tr>\n",
       "      <th>2</th>\n",
       "      <td>2</td>\n",
       "      <td>Sexually transmitted diseases of the colon, re...</td>\n",
       "    </tr>\n",
       "    <tr>\n",
       "      <th>3</th>\n",
       "      <td>1</td>\n",
       "      <td>Lipolytic factors associated with murine and h...</td>\n",
       "    </tr>\n",
       "    <tr>\n",
       "      <th>4</th>\n",
       "      <td>3</td>\n",
       "      <td>Does carotid restenosis predict an increased r...</td>\n",
       "    </tr>\n",
       "  </tbody>\n",
       "</table>\n",
       "</div>"
      ],
      "text/plain": [
       "   condition_label                                   medical_abstract\n",
       "0                5  Tissue changes around loose prostheses. A cani...\n",
       "1                1  Neuropeptide Y and neuron-specific enolase lev...\n",
       "2                2  Sexually transmitted diseases of the colon, re...\n",
       "3                1  Lipolytic factors associated with murine and h...\n",
       "4                3  Does carotid restenosis predict an increased r..."
      ]
     },
     "execution_count": 3,
     "metadata": {},
     "output_type": "execute_result"
    }
   ],
   "source": [
    "# loading training data\n",
    "train_path = '../../data/medical_abstracts_TC_corpus/medical_tc_train.csv'\n",
    "df_train = pd.read_csv(train_path)\n",
    "df_train.head()"
   ]
  },
  {
   "cell_type": "code",
   "execution_count": 4,
   "id": "2d2e6f45-e4c3-4e21-a402-7b32f4e3d7d3",
   "metadata": {},
   "outputs": [
    {
     "data": {
      "text/html": [
       "<div>\n",
       "<style scoped>\n",
       "    .dataframe tbody tr th:only-of-type {\n",
       "        vertical-align: middle;\n",
       "    }\n",
       "\n",
       "    .dataframe tbody tr th {\n",
       "        vertical-align: top;\n",
       "    }\n",
       "\n",
       "    .dataframe thead th {\n",
       "        text-align: right;\n",
       "    }\n",
       "</style>\n",
       "<table border=\"1\" class=\"dataframe\">\n",
       "  <thead>\n",
       "    <tr style=\"text-align: right;\">\n",
       "      <th></th>\n",
       "      <th>condition_label</th>\n",
       "      <th>medical_abstract</th>\n",
       "    </tr>\n",
       "  </thead>\n",
       "  <tbody>\n",
       "    <tr>\n",
       "      <th>0</th>\n",
       "      <td>3</td>\n",
       "      <td>Obstructive sleep apnea following topical orop...</td>\n",
       "    </tr>\n",
       "    <tr>\n",
       "      <th>1</th>\n",
       "      <td>5</td>\n",
       "      <td>Neutrophil function and pyogenic infections in...</td>\n",
       "    </tr>\n",
       "    <tr>\n",
       "      <th>2</th>\n",
       "      <td>5</td>\n",
       "      <td>A phase II study of combined methotrexate and ...</td>\n",
       "    </tr>\n",
       "    <tr>\n",
       "      <th>3</th>\n",
       "      <td>1</td>\n",
       "      <td>Flow cytometric DNA analysis of parathyroid tu...</td>\n",
       "    </tr>\n",
       "    <tr>\n",
       "      <th>4</th>\n",
       "      <td>4</td>\n",
       "      <td>Paraneoplastic vasculitic neuropathy: a treata...</td>\n",
       "    </tr>\n",
       "  </tbody>\n",
       "</table>\n",
       "</div>"
      ],
      "text/plain": [
       "   condition_label                                   medical_abstract\n",
       "0                3  Obstructive sleep apnea following topical orop...\n",
       "1                5  Neutrophil function and pyogenic infections in...\n",
       "2                5  A phase II study of combined methotrexate and ...\n",
       "3                1  Flow cytometric DNA analysis of parathyroid tu...\n",
       "4                4  Paraneoplastic vasculitic neuropathy: a treata..."
      ]
     },
     "execution_count": 4,
     "metadata": {},
     "output_type": "execute_result"
    }
   ],
   "source": [
    "# loading test data\n",
    "test_path = '../../data/medical_abstracts_TC_corpus/medical_tc_test.csv'\n",
    "df_test = pd.read_csv(test_path)\n",
    "df_test.head()"
   ]
  },
  {
   "cell_type": "code",
   "execution_count": 5,
   "id": "6e31829b-3dba-4bb7-b84b-e3395f36939b",
   "metadata": {},
   "outputs": [],
   "source": [
    "# add true/false test column to be used as a mask later\n",
    "df_train['test'] = False\n",
    "df_test['test'] = True"
   ]
  },
  {
   "cell_type": "code",
   "execution_count": 6,
   "id": "bc03e1fc-86b4-4f44-886f-6a28e7835540",
   "metadata": {},
   "outputs": [],
   "source": [
    "# combine train and test dataframe\n",
    "df_all = pd.concat([df_train, df_test], axis=0)\n",
    "df_all.reset_index(drop=True, inplace=True)  # fix index\n",
    "assert len(df_all) == len(df_train) + len(df_test)  # sanity check"
   ]
  },
  {
   "cell_type": "code",
   "execution_count": 7,
   "id": "a84d220f-aa9d-48b5-9944-7580366fad54",
   "metadata": {},
   "outputs": [],
   "source": [
    "# fixing labels so pytorch cross entropy doesn't complain\n",
    "df_all.condition_label = df_all.condition_label - 1\n",
    "df_labels.condition_label = df_labels.condition_label - 1"
   ]
  },
  {
   "cell_type": "code",
   "execution_count": 8,
   "id": "a3fac427-ebf4-4727-9a0b-acc9d67cae12",
   "metadata": {},
   "outputs": [
    {
     "data": {
      "text/html": [
       "<div>\n",
       "<style scoped>\n",
       "    .dataframe tbody tr th:only-of-type {\n",
       "        vertical-align: middle;\n",
       "    }\n",
       "\n",
       "    .dataframe tbody tr th {\n",
       "        vertical-align: top;\n",
       "    }\n",
       "\n",
       "    .dataframe thead th {\n",
       "        text-align: right;\n",
       "    }\n",
       "</style>\n",
       "<table border=\"1\" class=\"dataframe\">\n",
       "  <thead>\n",
       "    <tr style=\"text-align: right;\">\n",
       "      <th></th>\n",
       "      <th>condition_label</th>\n",
       "      <th>medical_abstract</th>\n",
       "      <th>test</th>\n",
       "    </tr>\n",
       "  </thead>\n",
       "  <tbody>\n",
       "    <tr>\n",
       "      <th>0</th>\n",
       "      <td>4</td>\n",
       "      <td>Tissue changes around loose prostheses. A cani...</td>\n",
       "      <td>False</td>\n",
       "    </tr>\n",
       "    <tr>\n",
       "      <th>1</th>\n",
       "      <td>0</td>\n",
       "      <td>Neuropeptide Y and neuron-specific enolase lev...</td>\n",
       "      <td>False</td>\n",
       "    </tr>\n",
       "    <tr>\n",
       "      <th>2</th>\n",
       "      <td>1</td>\n",
       "      <td>Sexually transmitted diseases of the colon, re...</td>\n",
       "      <td>False</td>\n",
       "    </tr>\n",
       "    <tr>\n",
       "      <th>3</th>\n",
       "      <td>0</td>\n",
       "      <td>Lipolytic factors associated with murine and h...</td>\n",
       "      <td>False</td>\n",
       "    </tr>\n",
       "    <tr>\n",
       "      <th>4</th>\n",
       "      <td>2</td>\n",
       "      <td>Does carotid restenosis predict an increased r...</td>\n",
       "      <td>False</td>\n",
       "    </tr>\n",
       "  </tbody>\n",
       "</table>\n",
       "</div>"
      ],
      "text/plain": [
       "   condition_label                                   medical_abstract   test\n",
       "0                4  Tissue changes around loose prostheses. A cani...  False\n",
       "1                0  Neuropeptide Y and neuron-specific enolase lev...  False\n",
       "2                1  Sexually transmitted diseases of the colon, re...  False\n",
       "3                0  Lipolytic factors associated with murine and h...  False\n",
       "4                2  Does carotid restenosis predict an increased r...  False"
      ]
     },
     "execution_count": 8,
     "metadata": {},
     "output_type": "execute_result"
    }
   ],
   "source": [
    "df_all.head()"
   ]
  },
  {
   "cell_type": "code",
   "execution_count": 9,
   "id": "c5903488-ea15-441c-b64a-f73d0e229193",
   "metadata": {},
   "outputs": [
    {
     "data": {
      "text/plain": [
       "({'neoplasms': 0,\n",
       "  'digestive system diseases': 1,\n",
       "  'nervous system diseases': 2,\n",
       "  'cardiovascular diseases': 3,\n",
       "  'general pathological conditions': 4},\n",
       " {0: 'neoplasms',\n",
       "  1: 'digestive system diseases',\n",
       "  2: 'nervous system diseases',\n",
       "  3: 'cardiovascular diseases',\n",
       "  4: 'general pathological conditions'})"
      ]
     },
     "execution_count": 9,
     "metadata": {},
     "output_type": "execute_result"
    }
   ],
   "source": [
    "# mapping from class name to value for later\n",
    "condition_names = list(df_labels.condition_name)\n",
    "condition_labels = df_labels.condition_label\n",
    "class_map = {condition_names[i]: condition_labels[i] for i in range(5)}\n",
    "class_map_inv = {v: k for k, v in class_map.items()}\n",
    "class_map, class_map_inv"
   ]
  },
  {
   "cell_type": "code",
   "execution_count": 10,
   "id": "e597f800-15d4-488d-8ad7-26794d7baa39",
   "metadata": {},
   "outputs": [],
   "source": [
    "del df_train, df_test"
   ]
  },
  {
   "cell_type": "markdown",
   "id": "c542c928-3541-468f-a993-1a5a0c3853be",
   "metadata": {},
   "source": [
    "# Define Hyperparameters"
   ]
  },
  {
   "cell_type": "code",
   "execution_count": 11,
   "id": "78bdc574-6190-46e2-bcda-59306d5c1e6a",
   "metadata": {},
   "outputs": [],
   "source": [
    "bert_model_name = 'bert-base-uncased'\n",
    "num_classes = 5\n",
    "max_length = 512 # this will truncate many of the texts (avg length: 180 words). Should try with BERT's maximum token length of 512\n",
    "batch_size = 15\n",
    "num_epochs = 15\n",
    "learning_rate = 0.000001"
   ]
  },
  {
   "cell_type": "markdown",
   "id": "57cebf76-457e-4310-9f0f-6850c42d9498",
   "metadata": {},
   "source": [
    "# Building Datasets/Dataloader"
   ]
  },
  {
   "cell_type": "code",
   "execution_count": 12,
   "id": "2336ed8e-daa5-4e56-bff1-d778ec040664",
   "metadata": {},
   "outputs": [],
   "source": [
    "class TextClassificationDataset(Dataset):\n",
    "    def __init__(self, texts, labels, tokenizer, max_length, device=torch.device('cpu')):\n",
    "        self.texts = texts\n",
    "        self.labels = labels\n",
    "        self.tokenizer = tokenizer\n",
    "        self.max_length = max_length\n",
    "        self.device = device\n",
    "        self.unique_labels = list(torch.from_numpy(np.unique(labels)))\n",
    "        \n",
    "    def __len__(self):\n",
    "        return len(self.texts)\n",
    "        \n",
    "    def __getitem__(self, idx):\n",
    "        text = self.texts[idx]\n",
    "        label = self.labels[idx]\n",
    "        encoding = self.tokenizer(text, return_tensors='pt', max_length=self.max_length, padding='max_length', truncation=True)\n",
    "        return {'input_ids': encoding['input_ids'].flatten().to(self.device), \n",
    "                'attention_mask': encoding['attention_mask'].flatten().to(self.device), \n",
    "                'label': torch.tensor(label).to(self.device)}"
   ]
  },
  {
   "cell_type": "code",
   "execution_count": 13,
   "id": "2485b469-d380-4520-a1bb-94e94649f894",
   "metadata": {},
   "outputs": [
    {
     "name": "stdout",
     "output_type": "stream",
     "text": [
      "Device: mps\n"
     ]
    }
   ],
   "source": [
    "if torch.cuda.is_available():\n",
    "    device = torch.device('cuda')\n",
    "elif torch.backends.mps.is_available():\n",
    "    device = torch.device('mps')\n",
    "else:\n",
    "    device = torch.device('cpu')\n",
    "\n",
    "print('Device:', device)"
   ]
  },
  {
   "cell_type": "code",
   "execution_count": 14,
   "id": "10359515-2cf8-4be9-b5b6-53d08db8b0f9",
   "metadata": {},
   "outputs": [],
   "source": [
    "# splitting df_all into train and test data and labels\n",
    "train_texts = list(df_all[~df_all.test].medical_abstract)\n",
    "train_labels = list(df_all[~df_all.test].condition_label)\n",
    "test_texts = list(df_all[df_all.test].medical_abstract)\n",
    "test_labels = list(df_all[df_all.test].condition_label)\n",
    "\n",
    "assert len(train_texts) == len(train_labels)\n",
    "assert len(test_texts) == len(test_labels)\n",
    "assert len(train_texts + test_texts) == len(df_all)"
   ]
  },
  {
   "cell_type": "code",
   "execution_count": 15,
   "id": "eb9dd88e-65cf-43c2-b12d-2e31fd835ca6",
   "metadata": {},
   "outputs": [],
   "source": [
    "# tokenizer\n",
    "# tokenizer = BertTokenizer.from_pretrained(bert_model_name) \n",
    "tokenizer = AutoTokenizer.from_pretrained('medicalai/ClinicalBERT')\n",
    "# tokenizer = AutoTokenizer.from_pretrained('distilbert/distilbert-base-uncased')\n",
    "\n",
    "# create datasets and dataloaders \n",
    "train_dataset = TextClassificationDataset(texts=train_texts, labels=train_labels, tokenizer=tokenizer, \n",
    "                                          max_length=max_length, device=device)\n",
    "test_dataset = TextClassificationDataset(texts=test_texts, labels=test_labels, tokenizer=tokenizer, \n",
    "                                         max_length=max_length, device=device)\n",
    "\n",
    "assert len(train_dataset) == len(train_texts) # yes, I AM that paranoid.\n",
    "assert len(test_dataset) == len(test_texts)\n",
    "\n",
    "train_dataloader = DataLoader(dataset=train_dataset, batch_size=batch_size, shuffle=True)\n",
    "test_dataloader = DataLoader(dataset=test_dataset, batch_size=batch_size)\n",
    "\n",
    "assert len(train_dataloader) == math.ceil(len(train_texts) / batch_size) \n",
    "assert len(test_dataloader) == math.ceil(len(test_texts) / batch_size)  # pytorch creates a partial batch if there is extra, so I round up"
   ]
  },
  {
   "cell_type": "code",
   "execution_count": 16,
   "id": "bb5ff6c2-46bc-4ba1-9bb9-a0dabbe024c4",
   "metadata": {},
   "outputs": [],
   "source": [
    "# for visualizing data\n",
    "dummy_dataset = TextClassificationDataset(texts=list(df_all.medical_abstract), \n",
    "                                          labels=list(df_all.condition_label),\n",
    "                                          tokenizer = tokenizer,\n",
    "                                          max_length=max_length)\n",
    "dummy_dataloader = DataLoader(dataset=dummy_dataset, batch_size=batch_size)"
   ]
  },
  {
   "cell_type": "code",
   "execution_count": 17,
   "id": "0320232d-06bf-47cb-9754-c88ee3f54601",
   "metadata": {},
   "outputs": [
    {
     "name": "stderr",
     "output_type": "stream",
     "text": [
      "100%|███████████████████████████████████████████████████████████████████████████████████████████████████| 963/963 [00:09<00:00, 98.64it/s]\n"
     ]
    }
   ],
   "source": [
    "# obtain number of tokens and labels for all texts\n",
    "all_num_tokens = np.zeros(shape=(len(dummy_dataloader.dataset)))\n",
    "all_labels = np.zeros(shape=(len(dummy_dataloader.dataset)))\n",
    "for batch_idx, batch in enumerate(tqdm(iter(dummy_dataloader))):\n",
    "    labels = np.array(batch['label'].cpu())\n",
    "    all_labels[batch_idx*batch_size : (batch_idx+1)*batch_size] = labels\n",
    "    token_counts = torch.count_nonzero(batch['input_ids'], axis=1)\n",
    "    all_num_tokens[batch_idx*batch_size : (batch_idx+1)*batch_size] = token_counts"
   ]
  },
  {
   "cell_type": "code",
   "execution_count": 18,
   "id": "acd91885-ae16-4c7b-b942-a113e2ab9414",
   "metadata": {},
   "outputs": [
    {
     "data": {
      "text/plain": [
       "count    14438.000000\n",
       "mean       295.956989\n",
       "std        121.396574\n",
       "min         42.000000\n",
       "25%        200.000000\n",
       "50%        290.000000\n",
       "75%        390.000000\n",
       "max        512.000000\n",
       "dtype: float64"
      ]
     },
     "execution_count": 18,
     "metadata": {},
     "output_type": "execute_result"
    }
   ],
   "source": [
    "# view descriptive statistics for number of tokens\n",
    "pd.Series(data=all_num_tokens).describe()"
   ]
  },
  {
   "cell_type": "code",
   "execution_count": 19,
   "id": "649fb82f-b79e-46ba-84e9-afc583331bd0",
   "metadata": {},
   "outputs": [
    {
     "data": {
      "text/plain": [
       "Text(0.5, 9.444444444444438, 'Number of Tokens')"
      ]
     },
     "execution_count": 19,
     "metadata": {},
     "output_type": "execute_result"
    },
    {
     "data": {
      "image/png": "[encoded data removed]",
      "text/plain": [
       "<Figure size 500x500 with 1 Axes>"
      ]
     },
     "metadata": {},
     "output_type": "display_data"
    }
   ],
   "source": [
    "sns.displot(data=all_num_tokens, kde=True)\n",
    "plt.xlabel('Number of Tokens')"
   ]
  },
  {
   "cell_type": "code",
   "execution_count": 20,
   "id": "eb8ab826-fb08-4a20-807c-8c5c8e5c8b5a",
   "metadata": {},
   "outputs": [
    {
     "data": {
      "text/html": [
       "<div>\n",
       "<style scoped>\n",
       "    .dataframe tbody tr th:only-of-type {\n",
       "        vertical-align: middle;\n",
       "    }\n",
       "\n",
       "    .dataframe tbody tr th {\n",
       "        vertical-align: top;\n",
       "    }\n",
       "\n",
       "    .dataframe thead th {\n",
       "        text-align: right;\n",
       "    }\n",
       "</style>\n",
       "<table border=\"1\" class=\"dataframe\">\n",
       "  <thead>\n",
       "    <tr style=\"text-align: right;\">\n",
       "      <th></th>\n",
       "      <th>Token_Count</th>\n",
       "      <th>Label</th>\n",
       "      <th>condition_label</th>\n",
       "    </tr>\n",
       "  </thead>\n",
       "  <tbody>\n",
       "    <tr>\n",
       "      <th>0</th>\n",
       "      <td>231.0</td>\n",
       "      <td>4.0</td>\n",
       "      <td>general pathological conditions</td>\n",
       "    </tr>\n",
       "    <tr>\n",
       "      <th>1</th>\n",
       "      <td>320.0</td>\n",
       "      <td>0.0</td>\n",
       "      <td>neoplasms</td>\n",
       "    </tr>\n",
       "    <tr>\n",
       "      <th>2</th>\n",
       "      <td>418.0</td>\n",
       "      <td>1.0</td>\n",
       "      <td>digestive system diseases</td>\n",
       "    </tr>\n",
       "    <tr>\n",
       "      <th>3</th>\n",
       "      <td>225.0</td>\n",
       "      <td>0.0</td>\n",
       "      <td>neoplasms</td>\n",
       "    </tr>\n",
       "    <tr>\n",
       "      <th>4</th>\n",
       "      <td>365.0</td>\n",
       "      <td>2.0</td>\n",
       "      <td>nervous system diseases</td>\n",
       "    </tr>\n",
       "  </tbody>\n",
       "</table>\n",
       "</div>"
      ],
      "text/plain": [
       "   Token_Count  Label                  condition_label\n",
       "0        231.0    4.0  general pathological conditions\n",
       "1        320.0    0.0                        neoplasms\n",
       "2        418.0    1.0        digestive system diseases\n",
       "3        225.0    0.0                        neoplasms\n",
       "4        365.0    2.0          nervous system diseases"
      ]
     },
     "execution_count": 20,
     "metadata": {},
     "output_type": "execute_result"
    }
   ],
   "source": [
    "# creating a dataframe for analysis\n",
    "labels_and_token_counts_df = pd.DataFrame({'Token_Count': all_num_tokens, 'Label': all_labels})\n",
    "labels_and_token_counts_df['condition_label'] = labels_and_token_counts_df['Label'].apply(lambda x: class_map_inv[x])\n",
    "labels_and_token_counts_df.head()"
   ]
  },
  {
   "cell_type": "code",
   "execution_count": 21,
   "id": "518c347d-7f93-4674-98de-b0ce4a5e9421",
   "metadata": {},
   "outputs": [
    {
     "data": {
      "text/plain": [
       "<seaborn.axisgrid.FacetGrid at 0x3066eb4d0>"
      ]
     },
     "execution_count": 21,
     "metadata": {},
     "output_type": "execute_result"
    },
    {
     "data": {
      "image/png": "[encoded data removed]",
      "text/plain": [
       "<Figure size 768.5x500 with 1 Axes>"
      ]
     },
     "metadata": {},
     "output_type": "display_data"
    }
   ],
   "source": [
    "# visualize token counts for different conditions\n",
    "sns.displot(data=labels_and_token_counts_df, x='Token_Count', hue='condition_label', kde=True, palette='pastel')"
   ]
  },
  {
   "cell_type": "code",
   "execution_count": 22,
   "id": "e5753fb4-2d5f-4f71-9f3f-21a9b655690b",
   "metadata": {},
   "outputs": [],
   "source": [
    "del labels_and_token_counts_df, all_labels, all_num_tokens, dummy_dataset, dummy_dataloader"
   ]
  },
  {
   "cell_type": "markdown",
   "id": "9cd56609-7424-41ba-9677-2f0634292031",
   "metadata": {},
   "source": [
    "# Creating Model"
   ]
  },
  {
   "cell_type": "code",
   "execution_count": 23,
   "id": "10e335d3-613b-4bf1-873f-dc3f1aa23ff6",
   "metadata": {},
   "outputs": [],
   "source": [
    "class BERTClassifier(nn.Module):\n",
    "    def __init__(self, bert_model_name, num_classes):\n",
    "        super(BERTClassifier, self).__init__()\n",
    "        self.bert = BertModel.from_pretrained(bert_model_name)\n",
    "        self.dropout = nn.Dropout(0.1) \n",
    "        self.fc = nn.Linear(self.bert.config.hidden_size, num_classes)\n",
    "\n",
    "    def forward(self, input_ids, attention_mask):\n",
    "        outputs = self.bert(input_ids=input_ids, attention_mask=attention_mask)\n",
    "        pooled_output = outputs.pooler_output\n",
    "        x = self.dropout(pooled_output)\n",
    "        logits = self.fc(x)\n",
    "        return logits  # 'logits' = raw outputs before softmax\n",
    "\n",
    "class ClinicalBERTClassifier(nn.Module):\n",
    "    def __init__(self, num_classes):\n",
    "        super(ClinicalBERTClassifier, self).__init__()\n",
    "        self.clinical_bert = AutoModel.from_pretrained('medicalai/ClinicalBERT') # could make this more modular but for now just getting it working\n",
    "        self.dropout = nn.Dropout(0.1)\n",
    "        self.pooler_layer = nn.Linear(in_features=768, out_features=768)\n",
    "        self.fc = nn.Linear(in_features=768, out_features=num_classes)\n",
    "\n",
    "    def forward(self, input_ids, attention_mask):\n",
    "        outputs = self.clinical_bert(input_ids=input_ids, attention_mask=attention_mask)\n",
    "        # get classification tokens (the first one) for all items in batch\n",
    "        cls_token = outputs.last_hidden_state[:, 0]\n",
    "        pooled_output = F.tanh(self.pooler_layer(cls_token))  # this is how BERT family models do it, dont ask me why\n",
    "        x = self.dropout(pooled_output)\n",
    "        logits = self.fc(x)\n",
    "        return logits\n",
    "\n",
    "class DistilBERTClassifier(nn.Module):\n",
    "    # condensed, more efficient version of BERT\n",
    "    def __init__(self, num_classes):\n",
    "        super(DistilBERTClassifier, self).__init__()\n",
    "        self.distilbert = AutoModel.from_pretrained('distilbert/distilbert-base-uncased') \n",
    "        self.dropout = nn.Dropout(0.1) \n",
    "        self.pooler_layer = nn.Linear(in_features=self.distilbert.config.hidden_size, out_features=self.distilbert.config.hidden_size)\n",
    "        self.fc = nn.Linear(self.distilbert.config.hidden_size, num_classes)\n",
    "\n",
    "    def forward(self, input_ids, attention_mask):\n",
    "        outputs = self.distilbert(input_ids=input_ids, attention_mask=attention_mask)\n",
    "        cls_token = outputs.last_hidden_state[:, 0]\n",
    "        pooled_output = F.tanh(self.pooler_layer(cls_token))  # this is how BERT family models do it, dont ask me why\n",
    "        x = self.dropout(pooled_output)\n",
    "        logits = self.fc(x)\n",
    "        return logits"
   ]
  },
  {
   "cell_type": "code",
   "execution_count": 24,
   "id": "bf6106ca-463a-4fe8-b230-a2e6525b8412",
   "metadata": {},
   "outputs": [],
   "source": [
    "# instantiate model and move to specified device\n",
    "# model = BERTClassifier(bert_model_name=bert_model_name, num_classes=num_classes)\n",
    "# model = model.to(device)\n",
    "\n",
    "model = ClinicalBERTClassifier(num_classes=num_classes)\n",
    "model = model.to(device)\n",
    "\n",
    "# model = DistilBERTClassifier(num_classes=num_classes)\n",
    "# model = model.to(device)"
   ]
  },
  {
   "cell_type": "code",
   "execution_count": 25,
   "id": "ae8d2638-10a2-473a-8ffb-3da91d70a5cc",
   "metadata": {},
   "outputs": [],
   "source": [
    "# define optimizer and loss function\n",
    "optimizer = torch.optim.Adam(params=model.parameters(), lr=learning_rate)\n",
    "loss_fn = torch.nn.CrossEntropyLoss()"
   ]
  },
  {
   "cell_type": "markdown",
   "id": "c95f990b-de23-4ee8-ab5c-5564c6619b6e",
   "metadata": {},
   "source": [
    "# Training Model"
   ]
  },
  {
   "cell_type": "code",
   "execution_count": 26,
   "id": "a9d1ce37-04b0-44e8-bb12-f2689f4c4b1d",
   "metadata": {},
   "outputs": [],
   "source": [
    "from utils.misc_utils import date_n_time"
   ]
  },
  {
   "cell_type": "code",
   "execution_count": 27,
   "id": "3ba177b8-bef2-4662-ac2a-d7c49404ddbc",
   "metadata": {},
   "outputs": [],
   "source": [
    "# training \n",
    "def train_one_epoch(dataloader, model, loss_fn, optimizer):\n",
    "    \"\"\"Train a PyTorch model for one epoch on a given dataloader\n",
    "\n",
    "    Args:\n",
    "        dataloader (torch.utils.data.DataLoader): a pytorch dataloader object\n",
    "        model (torch.nn.Module): a pytorch model object\n",
    "        loss_fn (torch.optim): a pytorch loss function object\n",
    "        optimizer (torch.optim): a pytorch optimizer object\n",
    "\n",
    "    Returns:\n",
    "        last_loss (float): loss for the last batch\n",
    "    \"\"\"\n",
    "    # set model to train mode\n",
    "    model.train()\n",
    "    \n",
    "    running_loss = 0.\n",
    "    last_loss = 0.\n",
    "    \n",
    "    start = time.time()\n",
    "    \n",
    "    for batch_idx, batch in enumerate(iter(dataloader)):\n",
    "        batch_input_ids = batch['input_ids']\n",
    "        batch_attention_mask = batch['attention_mask']\n",
    "        batch_labels = batch['label']\n",
    "\n",
    "        # Zero gradients\n",
    "        optimizer.zero_grad()\n",
    "\n",
    "        # Make predictions for this batch\n",
    "        batch_outputs = model(batch_input_ids, batch_attention_mask)\n",
    "\n",
    "        # Compute the loss and its gradients\n",
    "        loss = loss_fn(batch_outputs, batch_labels)\n",
    "        loss.backward()\n",
    "\n",
    "        # Adjust learning weights\n",
    "        optimizer.step()\n",
    "\n",
    "        # Gather data and report\n",
    "        running_loss += loss.item()\n",
    "\n",
    "        num_batches_per_update = 25  # number of batches for each print statement\n",
    "        \n",
    "        if batch_idx % num_batches_per_update == 0 and not batch_idx == 0:\n",
    "            last_loss = running_loss / num_batches_per_update # loss per batch\n",
    "            print(f'Running average loss at batch {batch_idx} : {last_loss}, Time: {time.time()-start}')\n",
    "            running_loss = 0.\n",
    "            start=time.time()\n",
    "\n",
    "    return last_loss"
   ]
  },
  {
   "cell_type": "code",
   "execution_count": 28,
   "id": "ef794869-a38c-451b-b422-6b97e76d6ee1",
   "metadata": {},
   "outputs": [],
   "source": [
    "# validation\n",
    "def validate_classification_model(dataloader, model, loss_fn, device):\n",
    "    \"\"\"Validate a classification model on a given dataset, return both mean loss and class-specific losses\n",
    "\n",
    "    Args:\n",
    "        dataloader (torch.utils.data.DataLoader): a pytorch dataloader object. Must have a dataset attribute with unique_labels: list(torch.Tensor)\n",
    "        model (torch.nn.Module): a pytorch model object\n",
    "        loss_fn (torch.optim): a pytorch loss function object\n",
    "        device (torch.device): a pytorch device object\n",
    "\n",
    "    Returns:\n",
    "        mean_validation_loss (float): mean loss across all batches\n",
    "        losses_for_unique_labels (dict): dictionary of losses for each unique label\n",
    "    \"\"\"\n",
    "    with torch.no_grad():\n",
    "        # set model to evaluation mode\n",
    "        model.eval()\n",
    "        \n",
    "        batch_loss = 0\n",
    "        batch_loss_list = []\n",
    "    \n",
    "        unique_labels = dataloader.dataset.unique_labels\n",
    "        losses_for_unique_labels_raw = {unique_label: [] for unique_label in unique_labels}\n",
    "        \n",
    "        for batch in tqdm(iter(dataloader)):\n",
    "            # Breaking up batch into components\n",
    "            batch_input_ids = batch['input_ids']\n",
    "            batch_attention_mask = batch['attention_mask']\n",
    "            batch_labels = batch['label']\n",
    "    \n",
    "            # Make predictions for this batch\n",
    "            batch_outputs = model(batch_input_ids, batch_attention_mask).detach()\n",
    "            \n",
    "            # Compute the loss\n",
    "            loss = loss_fn(batch_outputs, batch_labels)\n",
    "    \n",
    "            # get loss for each label\n",
    "            for unique_label in unique_labels:\n",
    "                if any(batch_labels == unique_label):\n",
    "                    batch_idxs_for_unique_label = batch_labels == unique_label\n",
    "                    \n",
    "                    batch_outputs_for_unique_label = batch_outputs[batch_idxs_for_unique_label]\n",
    "                    num_samples_in_batch = len(batch_outputs_for_unique_label)\n",
    "                    batch_targets_for_unique_label = unique_label.repeat(1, num_samples_in_batch).flatten().to(device)\n",
    "                   \n",
    "                    loss_for_unique_label = loss_fn(batch_outputs_for_unique_label, batch_targets_for_unique_label)\n",
    "                    loss_for_unique_label = loss_for_unique_label.item()\n",
    "                else:\n",
    "                    loss_for_unique_label = 0\n",
    "                    num_samples_in_batch = 0\n",
    "                    \n",
    "                losses_for_unique_labels_raw[unique_label].append((loss_for_unique_label, num_samples_in_batch))\n",
    "            \n",
    "            # Extract batch loss as float\n",
    "            batch_loss = loss.item()\n",
    "    \n",
    "            # add batch loss to running list\n",
    "            batch_loss_list.append(batch_loss) \n",
    "    \n",
    "        losses_for_unique_labels = {unique_label: [] for unique_label in unique_labels}\n",
    "    \n",
    "        # obtain losses for each class by aggregating individual batch losses\n",
    "        for unique_label in unique_labels:\n",
    "            loss_list_for_unique_label_raw = losses_for_unique_labels_raw[unique_label]\n",
    "            total_samples = sum([pair[1] for pair in loss_list_for_unique_label_raw])\n",
    "            loss_weights = [pair[1]/total_samples for pair in loss_list_for_unique_label_raw]\n",
    "            assert sum(loss_weights) == 1 \n",
    "            weighted_losses = [pair[0] * loss_weights[i] for i, pair in enumerate(loss_list_for_unique_label_raw)]\n",
    "            aggregated_class_loss = sum(weighted_losses)\n",
    "            losses_for_unique_labels[unique_label] = aggregated_class_loss\n",
    "    \n",
    "        mean_validation_loss = np.mean(batch_loss_list)\n",
    "    return mean_validation_loss, losses_for_unique_labels\n"
   ]
  },
  {
   "cell_type": "code",
   "execution_count": 29,
   "id": "7e9712cd-4707-4517-ba10-1b359de9d53b",
   "metadata": {},
   "outputs": [
    {
     "name": "stdout",
     "output_type": "stream",
     "text": [
      "------------------------------------------------------------\n",
      "Epoch  1\n",
      "Starting Model Training...\n",
      "Running average loss at batch 25 : 1.635744571685791, Time: 30.434940814971924\n",
      "Running average loss at batch 50 : 1.557992558479309, Time: 28.56134605407715\n",
      "Running average loss at batch 75 : 1.5550855588912964, Time: 28.56787610054016\n",
      "Running average loss at batch 100 : 1.5439488506317138, Time: 28.567919969558716\n",
      "Running average loss at batch 125 : 1.5289052534103393, Time: 28.6195068359375\n",
      "Running average loss at batch 150 : 1.535070013999939, Time: 28.547824144363403\n",
      "Running average loss at batch 175 : 1.5449410581588745, Time: 28.53209686279297\n",
      "Running average loss at batch 200 : 1.4994047784805298, Time: 28.53999614715576\n",
      "Running average loss at batch 225 : 1.516457815170288, Time: 28.55300998687744\n",
      "Running average loss at batch 250 : 1.5252134704589844, Time: 28.560606002807617\n",
      "Running average loss at batch 275 : 1.4986628580093384, Time: 28.52659511566162\n",
      "Running average loss at batch 300 : 1.4933664989471436, Time: 28.534888982772827\n",
      "Running average loss at batch 325 : 1.5072895526885985, Time: 28.534034967422485\n",
      "Running average loss at batch 350 : 1.48857693195343, Time: 28.5836079120636\n",
      "Running average loss at batch 375 : 1.4573779201507568, Time: 28.56661105155945\n",
      "Running average loss at batch 400 : 1.4197209692001342, Time: 28.60694408416748\n",
      "Running average loss at batch 425 : 1.366353793144226, Time: 28.6018009185791\n",
      "Running average loss at batch 450 : 1.3153908443450928, Time: 28.556438207626343\n",
      "Running average loss at batch 475 : 1.2631660461425782, Time: 28.558892250061035\n",
      "Running average loss at batch 500 : 1.230114188194275, Time: 28.559083938598633\n",
      "Running average loss at batch 525 : 1.1851964426040649, Time: 28.539831161499023\n",
      "Running average loss at batch 550 : 1.187387433052063, Time: 28.563420295715332\n",
      "Running average loss at batch 575 : 1.1097070527076722, Time: 28.64688515663147\n",
      "Running average loss at batch 600 : 1.1119721412658692, Time: 28.595211029052734\n",
      "Running average loss at batch 625 : 1.0785998034477233, Time: 28.55738401412964\n",
      "Running average loss at batch 650 : 1.0552215456962586, Time: 28.577658891677856\n",
      "Running average loss at batch 675 : 1.1025733399391173, Time: 28.599552869796753\n",
      "Running average loss at batch 700 : 1.0984938979148864, Time: 28.516489028930664\n",
      "Running average loss at batch 725 : 1.127589156627655, Time: 28.568667888641357\n",
      "Running average loss at batch 750 : 1.0719330954551696, Time: 28.544450998306274\n",
      "Last train loss:  1.0719330954551696\n",
      "Starting Model Testing...\n"
     ]
    },
    {
     "name": "stderr",
     "output_type": "stream",
     "text": [
      "100%|███████████████████████████████████████████████████████████████████████████████████████████████████| 193/193 [01:12<00:00,  2.65it/s]\n"
     ]
    },
    {
     "name": "stdout",
     "output_type": "stream",
     "text": [
      "Mean test loss:  1.0299017747449133\n",
      "Losses for individual classes: {tensor(0): 0.8020317484793882, tensor(1): 1.336814244056625, tensor(2): 1.3848843720052149, tensor(3): 0.6898941752363424, tensor(4): 1.1566339352872692}\n",
      "Saving model...\n",
      "Model saved\n",
      "------------------------------------------------------------\n",
      "Epoch  2\n",
      "Starting Model Training...\n",
      "Running average loss at batch 25 : 1.0840781950950622, Time: 32.9367790222168\n",
      "Running average loss at batch 50 : 0.980192039012909, Time: 30.36430811882019\n",
      "Running average loss at batch 75 : 1.002549605369568, Time: 30.118556022644043\n",
      "Running average loss at batch 100 : 0.9931549286842346, Time: 30.231812238693237\n",
      "Running average loss at batch 125 : 0.9925349903106689, Time: 29.492048740386963\n",
      "Running average loss at batch 150 : 1.0025125980377196, Time: 29.606667041778564\n",
      "Running average loss at batch 175 : 0.9731469225883483, Time: 29.532864093780518\n",
      "Running average loss at batch 200 : 0.9950228524208069, Time: 29.38778805732727\n",
      "Running average loss at batch 225 : 0.9967615127563476, Time: 29.213569164276123\n",
      "Running average loss at batch 250 : 0.9645978260040283, Time: 29.72629690170288\n",
      "Running average loss at batch 275 : 0.8899086737632751, Time: 29.070328950881958\n",
      "Running average loss at batch 300 : 1.013890233039856, Time: 29.087018966674805\n",
      "Running average loss at batch 325 : 0.9629751801490783, Time: 29.48031520843506\n",
      "Running average loss at batch 350 : 0.9472720885276794, Time: 30.254687070846558\n",
      "Running average loss at batch 375 : 0.9176153230667115, Time: 32.36162495613098\n",
      "Running average loss at batch 400 : 1.0358584070205687, Time: 32.09331202507019\n",
      "Running average loss at batch 425 : 0.9807785534858704, Time: 30.185895919799805\n",
      "Running average loss at batch 450 : 0.9574244260787964, Time: 30.04351806640625\n",
      "Running average loss at batch 475 : 0.9704575967788697, Time: 29.42400097846985\n",
      "Running average loss at batch 500 : 0.9248275303840637, Time: 29.668431758880615\n",
      "Running average loss at batch 525 : 0.9789851784706116, Time: 30.137315034866333\n",
      "Running average loss at batch 550 : 0.9454770684242249, Time: 30.389828205108643\n",
      "Running average loss at batch 575 : 0.9023194909095764, Time: 31.5704448223114\n",
      "Running average loss at batch 600 : 0.9373098230361938, Time: 32.23882985115051\n",
      "Running average loss at batch 625 : 0.9923437285423279, Time: 30.97098207473755\n",
      "Running average loss at batch 650 : 0.8752411341667176, Time: 30.436405897140503\n",
      "Running average loss at batch 675 : 0.8930231142044067, Time: 29.50001883506775\n",
      "Running average loss at batch 700 : 0.9259056806564331, Time: 30.033419132232666\n",
      "Running average loss at batch 725 : 0.8889150166511536, Time: 29.61349582672119\n",
      "Running average loss at batch 750 : 0.8762411713600159, Time: 29.835786819458008\n",
      "Last train loss:  0.8762411713600159\n",
      "Starting Model Testing...\n"
     ]
    },
    {
     "name": "stderr",
     "output_type": "stream",
     "text": [
      "100%|███████████████████████████████████████████████████████████████████████████████████████████████████| 193/193 [01:12<00:00,  2.65it/s]\n"
     ]
    },
    {
     "name": "stdout",
     "output_type": "stream",
     "text": [
      "Mean test loss:  0.9204178687204351\n",
      "Losses for individual classes: {tensor(0): 0.6434474440782932, tensor(1): 1.1094704920232894, tensor(2): 1.25801235390948, tensor(3): 0.6478358927808825, tensor(4): 1.0801684502570363}\n",
      "Saving model...\n",
      "Model saved\n",
      "------------------------------------------------------------\n",
      "Epoch  3\n",
      "Starting Model Training...\n",
      "Running average loss at batch 25 : 0.9510535287857056, Time: 31.717116117477417\n",
      "Running average loss at batch 50 : 0.8485152518749237, Time: 30.716036081314087\n",
      "Running average loss at batch 75 : 0.9707508897781372, Time: 30.98529291152954\n",
      "Running average loss at batch 100 : 0.852896625995636, Time: 30.7072811126709\n",
      "Running average loss at batch 125 : 0.9762325000762939, Time: 31.37814497947693\n",
      "Running average loss at batch 150 : 0.9069528007507324, Time: 31.131914854049683\n",
      "Running average loss at batch 175 : 0.865902669429779, Time: 30.509536027908325\n",
      "Running average loss at batch 200 : 0.8628210985660553, Time: 30.23818016052246\n",
      "Running average loss at batch 225 : 0.8794210171699524, Time: 29.705893754959106\n",
      "Running average loss at batch 250 : 0.8833339738845826, Time: 30.390002727508545\n",
      "Running average loss at batch 275 : 0.915595486164093, Time: 30.443434953689575\n",
      "Running average loss at batch 300 : 0.8734479117393493, Time: 29.312067985534668\n",
      "Running average loss at batch 325 : 0.9006580400466919, Time: 29.88070797920227\n",
      "Running average loss at batch 350 : 0.9145304226875305, Time: 29.07319712638855\n",
      "Running average loss at batch 375 : 0.8466909599304199, Time: 29.346678018569946\n",
      "Running average loss at batch 400 : 0.9175388789176941, Time: 29.208571195602417\n",
      "Running average loss at batch 425 : 0.866158881187439, Time: 29.767951011657715\n",
      "Running average loss at batch 450 : 0.8465535187721253, Time: 29.156100034713745\n",
      "Running average loss at batch 475 : 0.8557398319244385, Time: 29.53594708442688\n",
      "Running average loss at batch 500 : 0.8301668357849121, Time: 31.07091212272644\n",
      "Running average loss at batch 525 : 0.9208642697334289, Time: 31.83815288543701\n",
      "Running average loss at batch 550 : 0.8890115714073181, Time: 31.245736837387085\n",
      "Running average loss at batch 575 : 0.9513311123847962, Time: 29.787873029708862\n",
      "Running average loss at batch 600 : 0.8432779049873352, Time: 29.312062978744507\n",
      "Running average loss at batch 625 : 0.9556317377090454, Time: 29.474700689315796\n",
      "Running average loss at batch 650 : 0.9168940806388854, Time: 30.370909929275513\n",
      "Running average loss at batch 675 : 0.9179031872749328, Time: 30.682315826416016\n",
      "Running average loss at batch 700 : 0.9421593761444091, Time: 30.69320774078369\n",
      "Running average loss at batch 725 : 0.8806743049621581, Time: 30.22591209411621\n",
      "Running average loss at batch 750 : 0.8613946676254273, Time: 30.770914793014526\n",
      "Last train loss:  0.8613946676254273\n",
      "Starting Model Testing...\n"
     ]
    },
    {
     "name": "stderr",
     "output_type": "stream",
     "text": [
      "100%|███████████████████████████████████████████████████████████████████████████████████████████████████| 193/193 [01:12<00:00,  2.68it/s]\n"
     ]
    },
    {
     "name": "stdout",
     "output_type": "stream",
     "text": [
      "Mean test loss:  0.8960670234316989\n",
      "Losses for individual classes: {tensor(0): 0.638631305376312, tensor(1): 1.0056438588577767, tensor(2): 1.1588453114032746, tensor(3): 0.5661568806430356, tensor(4): 1.1342226420989518}\n",
      "Saving model...\n",
      "Model saved\n",
      "------------------------------------------------------------\n",
      "Epoch  4\n",
      "Starting Model Training...\n",
      "Running average loss at batch 25 : 0.872676146030426, Time: 32.54622793197632\n",
      "Running average loss at batch 50 : 0.857395794391632, Time: 31.09400725364685\n",
      "Running average loss at batch 75 : 0.8826529705524444, Time: 31.35027503967285\n",
      "Running average loss at batch 100 : 0.8476196527481079, Time: 31.294562101364136\n",
      "Running average loss at batch 125 : 0.8619783282279968, Time: 30.215526342391968\n",
      "Running average loss at batch 150 : 0.8583243131637573, Time: 29.024205923080444\n",
      "Running average loss at batch 175 : 0.8538026452064514, Time: 30.318683862686157\n",
      "Running average loss at batch 200 : 0.8300542378425598, Time: 29.885596752166748\n",
      "Running average loss at batch 225 : 0.8280615758895874, Time: 30.435222864151\n",
      "Running average loss at batch 250 : 0.7975255012512207, Time: 29.33079195022583\n",
      "Running average loss at batch 275 : 0.8908667135238647, Time: 30.099316835403442\n",
      "Running average loss at batch 300 : 0.8606785106658935, Time: 29.284198760986328\n",
      "Running average loss at batch 325 : 0.9528250694274902, Time: 29.738349676132202\n",
      "Running average loss at batch 350 : 0.82484672665596, Time: 30.490877866744995\n",
      "Running average loss at batch 375 : 0.8256309390068054, Time: 29.239738941192627\n",
      "Running average loss at batch 400 : 0.8704829096794129, Time: 30.389708042144775\n",
      "Running average loss at batch 425 : 0.8675989508628845, Time: 30.09165596961975\n",
      "Running average loss at batch 450 : 0.8353745377063752, Time: 31.051240921020508\n",
      "Running average loss at batch 475 : 0.8851882004737854, Time: 30.6335871219635\n",
      "Running average loss at batch 500 : 0.8638123297691345, Time: 30.299697875976562\n",
      "Running average loss at batch 525 : 0.9113621068000793, Time: 30.323550939559937\n",
      "Running average loss at batch 550 : 0.910754988193512, Time: 29.226060152053833\n",
      "Running average loss at batch 575 : 0.9351383113861084, Time: 30.398175954818726\n",
      "Running average loss at batch 600 : 0.8439131379127502, Time: 32.02429795265198\n",
      "Running average loss at batch 625 : 0.8241418361663818, Time: 31.304984092712402\n",
      "Running average loss at batch 650 : 0.7783521389961243, Time: 30.91414785385132\n",
      "Running average loss at batch 675 : 0.8578792798519135, Time: 30.24162721633911\n",
      "Running average loss at batch 700 : 0.9315867483615875, Time: 30.398324966430664\n",
      "Running average loss at batch 725 : 0.8659599876403808, Time: 29.394942045211792\n",
      "Running average loss at batch 750 : 0.8673303365707398, Time: 29.10189914703369\n",
      "Last train loss:  0.8673303365707398\n",
      "Starting Model Testing...\n"
     ]
    },
    {
     "name": "stderr",
     "output_type": "stream",
     "text": [
      "100%|███████████████████████████████████████████████████████████████████████████████████████████████████| 193/193 [01:12<00:00,  2.66it/s]\n"
     ]
    },
    {
     "name": "stdout",
     "output_type": "stream",
     "text": [
      "Mean test loss:  0.8831470593269625\n",
      "Losses for individual classes: {tensor(0): 0.6393638002976045, tensor(1): 0.853243344105207, tensor(2): 1.172457786813959, tensor(3): 0.6363497642952888, tensor(4): 1.091445015974025}\n",
      "Saving model...\n",
      "Model saved\n",
      "------------------------------------------------------------\n",
      "Epoch  5\n",
      "Starting Model Training...\n",
      "Running average loss at batch 25 : 0.9356976413726806, Time: 32.30155801773071\n",
      "Running average loss at batch 50 : 0.8224737930297852, Time: 29.785189151763916\n",
      "Running average loss at batch 75 : 0.808561601638794, Time: 30.30128312110901\n",
      "Running average loss at batch 100 : 0.8679038834571838, Time: 30.42488670349121\n",
      "Running average loss at batch 125 : 0.8386512279510498, Time: 29.643435955047607\n",
      "Running average loss at batch 150 : 0.8456904435157776, Time: 30.46576499938965\n",
      "Running average loss at batch 175 : 0.8079350113868713, Time: 30.304883241653442\n",
      "Running average loss at batch 200 : 0.9001362657546997, Time: 29.4925639629364\n",
      "Running average loss at batch 225 : 0.8575932908058167, Time: 29.399566173553467\n",
      "Running average loss at batch 250 : 0.8409645557403564, Time: 30.155707836151123\n",
      "Running average loss at batch 275 : 0.901957094669342, Time: 29.357874155044556\n",
      "Running average loss at batch 300 : 0.8678441739082337, Time: 29.77898383140564\n",
      "Running average loss at batch 325 : 0.8274764692783356, Time: 30.209776878356934\n",
      "Running average loss at batch 350 : 0.8709373140335083, Time: 29.504605054855347\n",
      "Running average loss at batch 375 : 0.8016692006587982, Time: 29.695611715316772\n",
      "Running average loss at batch 400 : 0.8544183278083801, Time: 29.847167015075684\n",
      "Running average loss at batch 425 : 0.8684637117385864, Time: 29.6737060546875\n",
      "Running average loss at batch 450 : 0.8500056517124176, Time: 29.228999137878418\n",
      "Running average loss at batch 475 : 0.8903651785850525, Time: 29.18218183517456\n",
      "Running average loss at batch 500 : 0.8613161253929138, Time: 29.557115077972412\n",
      "Running average loss at batch 525 : 0.8148204159736633, Time: 29.929280042648315\n",
      "Running average loss at batch 550 : 0.7786124312877655, Time: 30.29238986968994\n",
      "Running average loss at batch 575 : 0.8458275091648102, Time: 30.20120596885681\n",
      "Running average loss at batch 600 : 0.8578090095520019, Time: 29.98038077354431\n",
      "Running average loss at batch 625 : 0.7958559226989746, Time: 29.46368980407715\n",
      "Running average loss at batch 650 : 0.8398872542381287, Time: 29.395601987838745\n",
      "Running average loss at batch 675 : 0.9012085127830506, Time: 29.489807844161987\n",
      "Running average loss at batch 700 : 0.7837468266487122, Time: 29.392578125\n",
      "Running average loss at batch 725 : 0.7789705300331116, Time: 29.311352968215942\n",
      "Running average loss at batch 750 : 0.7778332781791687, Time: 29.640487909317017\n",
      "Last train loss:  0.7778332781791687\n",
      "Starting Model Testing...\n"
     ]
    },
    {
     "name": "stderr",
     "output_type": "stream",
     "text": [
      "100%|███████████████████████████████████████████████████████████████████████████████████████████████████| 193/193 [01:12<00:00,  2.68it/s]\n"
     ]
    },
    {
     "name": "stdout",
     "output_type": "stream",
     "text": [
      "Mean test loss:  0.8710156890703606\n",
      "Losses for individual classes: {tensor(0): 0.632831591777327, tensor(1): 1.011498657357334, tensor(2): 1.0663797906466892, tensor(3): 0.5723730074211223, tensor(4): 1.0932478766721692}\n",
      "Saving model...\n",
      "Model saved\n",
      "------------------------------------------------------------\n",
      "Epoch  6\n",
      "Starting Model Training...\n",
      "Running average loss at batch 25 : 0.8613919758796692, Time: 31.30076813697815\n",
      "Running average loss at batch 50 : 0.7876828813552856, Time: 29.639432907104492\n",
      "Running average loss at batch 75 : 0.8457888007164002, Time: 29.393568992614746\n",
      "Running average loss at batch 100 : 0.7895008134841919, Time: 29.538832902908325\n",
      "Running average loss at batch 125 : 0.8388276362419128, Time: 30.023919820785522\n",
      "Running average loss at batch 150 : 0.7697545814514161, Time: 30.38129496574402\n",
      "Running average loss at batch 175 : 0.8540412449836731, Time: 30.702411890029907\n",
      "Running average loss at batch 200 : 0.8769172763824463, Time: 28.995568990707397\n",
      "Running average loss at batch 225 : 0.8271840476989746, Time: 29.309015035629272\n",
      "Running average loss at batch 250 : 0.7665411603450775, Time: 30.592895030975342\n",
      "Running average loss at batch 275 : 0.862415862083435, Time: 29.890403032302856\n",
      "Running average loss at batch 300 : 0.889534375667572, Time: 29.727718114852905\n",
      "Running average loss at batch 325 : 0.8041661190986633, Time: 30.091216802597046\n",
      "Running average loss at batch 350 : 0.8120679712295532, Time: 29.900912284851074\n",
      "Running average loss at batch 375 : 0.8192271363735198, Time: 29.99967885017395\n",
      "Running average loss at batch 400 : 0.8496628141403199, Time: 30.584569931030273\n",
      "Running average loss at batch 425 : 0.7544649398326874, Time: 29.037823915481567\n",
      "Running average loss at batch 450 : 0.8110505914688111, Time: 28.96477484703064\n",
      "Running average loss at batch 475 : 0.8583533191680908, Time: 29.13716197013855\n",
      "Running average loss at batch 500 : 0.8028460776805878, Time: 29.92438006401062\n",
      "Running average loss at batch 525 : 0.7358566987514495, Time: 30.933952808380127\n",
      "Running average loss at batch 550 : 0.7286818182468414, Time: 30.824779987335205\n",
      "Running average loss at batch 575 : 0.8110396218299866, Time: 29.671911239624023\n",
      "Running average loss at batch 600 : 0.8080421006679535, Time: 29.434211015701294\n",
      "Running average loss at batch 625 : 0.8403004693984986, Time: 29.386844873428345\n",
      "Running average loss at batch 650 : 0.9425322461128235, Time: 31.63216280937195\n",
      "Running average loss at batch 675 : 0.8289021182060242, Time: 32.077850341796875\n",
      "Running average loss at batch 700 : 0.8842848539352417, Time: 31.01604986190796\n",
      "Running average loss at batch 725 : 0.8253225183486939, Time: 31.71679711341858\n",
      "Running average loss at batch 750 : 0.7980678462982178, Time: 31.590020895004272\n",
      "Last train loss:  0.7980678462982178\n",
      "Starting Model Testing...\n"
     ]
    },
    {
     "name": "stderr",
     "output_type": "stream",
     "text": [
      "100%|███████████████████████████████████████████████████████████████████████████████████████████████████| 193/193 [01:12<00:00,  2.68it/s]\n"
     ]
    },
    {
     "name": "stdout",
     "output_type": "stream",
     "text": [
      "Mean test loss:  0.8620082802414276\n",
      "Losses for individual classes: {tensor(0): 0.611115330179909, tensor(1): 0.9595179160602116, tensor(2): 1.0914281089971591, tensor(3): 0.6329463316402475, tensor(4): 1.047546857198493}\n",
      "Saving model...\n",
      "Model saved\n",
      "------------------------------------------------------------\n",
      "Epoch  7\n",
      "Starting Model Training...\n",
      "Running average loss at batch 25 : 0.8914915001392365, Time: 31.356485843658447\n",
      "Running average loss at batch 50 : 0.9139544653892517, Time: 30.358488082885742\n",
      "Running average loss at batch 75 : 0.8704789042472839, Time: 31.060100317001343\n",
      "Running average loss at batch 100 : 0.7801800835132598, Time: 30.39665198326111\n",
      "Running average loss at batch 125 : 0.8408584833145142, Time: 30.4481041431427\n",
      "Running average loss at batch 150 : 0.8042048287391662, Time: 29.24985384941101\n",
      "Running average loss at batch 175 : 0.8083863031864166, Time: 30.73941922187805\n",
      "Running average loss at batch 200 : 0.7922839045524597, Time: 31.338112115859985\n",
      "Running average loss at batch 225 : 0.8363615095615387, Time: 30.664722204208374\n",
      "Running average loss at batch 250 : 0.773999046087265, Time: 31.078747987747192\n",
      "Running average loss at batch 275 : 0.8721545541286468, Time: 30.049177885055542\n",
      "Running average loss at batch 300 : 0.7498451745510102, Time: 30.608125925064087\n",
      "Running average loss at batch 325 : 0.8248004579544067, Time: 29.527148008346558\n",
      "Running average loss at batch 350 : 0.7441603851318359, Time: 30.69973921775818\n",
      "Running average loss at batch 375 : 0.8011816084384918, Time: 29.26858115196228\n",
      "Running average loss at batch 400 : 0.8117618381977081, Time: 29.514233112335205\n",
      "Running average loss at batch 425 : 0.8191064357757568, Time: 29.75237512588501\n",
      "Running average loss at batch 450 : 0.8218237423896789, Time: 29.9467990398407\n",
      "Running average loss at batch 475 : 0.796557434797287, Time: 30.037148237228394\n",
      "Running average loss at batch 500 : 0.7503269469738006, Time: 30.64433717727661\n",
      "Running average loss at batch 525 : 0.7513830626010894, Time: 31.160948038101196\n",
      "Running average loss at batch 550 : 0.8044991648197174, Time: 29.4930419921875\n",
      "Running average loss at batch 575 : 0.7481078481674195, Time: 31.085532903671265\n",
      "Running average loss at batch 600 : 0.8482146739959717, Time: 31.268632173538208\n",
      "Running average loss at batch 625 : 0.7875700545310974, Time: 30.10864496231079\n",
      "Running average loss at batch 650 : 0.7960271334648132, Time: 32.06192708015442\n",
      "Running average loss at batch 675 : 0.7742139410972595, Time: 31.491612911224365\n",
      "Running average loss at batch 700 : 0.8244705390930176, Time: 31.285403966903687\n",
      "Running average loss at batch 725 : 0.8174438095092773, Time: 29.44428014755249\n",
      "Running average loss at batch 750 : 0.8014717710018158, Time: 29.227785110473633\n",
      "Last train loss:  0.8014717710018158\n",
      "Starting Model Testing...\n"
     ]
    },
    {
     "name": "stderr",
     "output_type": "stream",
     "text": [
      "100%|███████████████████████████████████████████████████████████████████████████████████████████████████| 193/193 [01:12<00:00,  2.67it/s]\n"
     ]
    },
    {
     "name": "stdout",
     "output_type": "stream",
     "text": [
      "Mean test loss:  0.8676415144470689\n",
      "Losses for individual classes: {tensor(0): 0.5510618240818217, tensor(1): 1.0101810365317259, tensor(2): 1.0117040590032356, tensor(3): 0.5384870797090354, tensor(4): 1.1804619752777727}\n",
      "Saving model...\n",
      "Model saved\n",
      "------------------------------------------------------------\n",
      "Epoch  8\n",
      "Starting Model Training...\n",
      "Running average loss at batch 25 : 0.8712189817428588, Time: 31.8888099193573\n",
      "Running average loss at batch 50 : 0.8112926614284516, Time: 31.535824060440063\n",
      "Running average loss at batch 75 : 0.7229169893264771, Time: 30.23819613456726\n",
      "Running average loss at batch 100 : 0.7130086719989777, Time: 28.957735061645508\n",
      "Running average loss at batch 125 : 0.8145209491252899, Time: 29.31100106239319\n",
      "Running average loss at batch 150 : 0.8875897789001465, Time: 29.201727867126465\n",
      "Running average loss at batch 175 : 0.7545937824249268, Time: 30.377239227294922\n",
      "Running average loss at batch 200 : 0.8187977910041809, Time: 29.342890977859497\n",
      "Running average loss at batch 225 : 0.7102559542655945, Time: 29.887504816055298\n",
      "Running average loss at batch 250 : 0.7950426185131073, Time: 29.38517117500305\n",
      "Running average loss at batch 275 : 0.7664197909832001, Time: 29.59415602684021\n",
      "Running average loss at batch 300 : 0.8423176622390747, Time: 29.484138011932373\n",
      "Running average loss at batch 325 : 0.7382251346111297, Time: 28.999507904052734\n",
      "Running average loss at batch 350 : 0.8588683247566223, Time: 29.248645067214966\n",
      "Running average loss at batch 375 : 0.8297858762741089, Time: 29.27572798728943\n",
      "Running average loss at batch 400 : 0.7675997066497803, Time: 29.145923137664795\n",
      "Running average loss at batch 425 : 0.8354566693305969, Time: 29.327985286712646\n",
      "Running average loss at batch 450 : 0.7982579481601715, Time: 30.034209728240967\n",
      "Running average loss at batch 475 : 0.777722647190094, Time: 28.913281202316284\n",
      "Running average loss at batch 500 : 0.8241273832321167, Time: 29.152791738510132\n",
      "Running average loss at batch 525 : 0.7605517029762268, Time: 29.592998027801514\n",
      "Running average loss at batch 550 : 0.8016537833213806, Time: 29.534822940826416\n",
      "Running average loss at batch 575 : 0.7661190068721772, Time: 30.20510721206665\n",
      "Running average loss at batch 600 : 0.768544819355011, Time: 29.52628517150879\n",
      "Running average loss at batch 625 : 0.7891958403587341, Time: 29.23001217842102\n",
      "Running average loss at batch 650 : 0.8336592543125153, Time: 29.020968914031982\n",
      "Running average loss at batch 675 : 0.77346275806427, Time: 29.69062614440918\n",
      "Running average loss at batch 700 : 0.7236752367019653, Time: 29.74001407623291\n",
      "Running average loss at batch 725 : 0.805111517906189, Time: 29.404695987701416\n",
      "Running average loss at batch 750 : 0.7457054221630096, Time: 29.795331716537476\n",
      "Last train loss:  0.7457054221630096\n",
      "Starting Model Testing...\n"
     ]
    },
    {
     "name": "stderr",
     "output_type": "stream",
     "text": [
      "100%|███████████████████████████████████████████████████████████████████████████████████████████████████| 193/193 [01:12<00:00,  2.67it/s]\n"
     ]
    },
    {
     "name": "stdout",
     "output_type": "stream",
     "text": [
      "Mean test loss:  0.8553378971129502\n",
      "Losses for individual classes: {tensor(0): 0.6526972481401234, tensor(1): 1.0240708637397027, tensor(2): 1.0083616243941442, tensor(3): 0.6015274995540987, tensor(4): 1.0330391932321512}\n",
      "Saving model...\n",
      "Model saved\n",
      "------------------------------------------------------------\n",
      "Epoch  9\n",
      "Starting Model Training...\n",
      "Running average loss at batch 25 : 0.725107387304306, Time: 31.586606979370117\n",
      "Running average loss at batch 50 : 0.8000926876068115, Time: 29.71233320236206\n",
      "Running average loss at batch 75 : 0.7604532980918884, Time: 28.97638201713562\n",
      "Running average loss at batch 100 : 0.7240973734855651, Time: 29.719057083129883\n",
      "Running average loss at batch 125 : 0.7840464985370637, Time: 29.549668073654175\n",
      "Running average loss at batch 150 : 0.7714372026920319, Time: 29.311761140823364\n",
      "Running average loss at batch 175 : 0.7618498396873474, Time: 29.43565320968628\n",
      "Running average loss at batch 200 : 0.8690536522865295, Time: 30.087700843811035\n",
      "Running average loss at batch 225 : 0.7994974088668824, Time: 29.585927724838257\n",
      "Running average loss at batch 250 : 0.763984067440033, Time: 29.490242958068848\n",
      "Running average loss at batch 275 : 0.7351521927118302, Time: 29.319565773010254\n",
      "Running average loss at batch 300 : 0.7860381746292114, Time: 30.08820390701294\n",
      "Running average loss at batch 325 : 0.7301715922355652, Time: 30.15533185005188\n",
      "Running average loss at batch 350 : 0.7206668472290039, Time: 30.692728996276855\n",
      "Running average loss at batch 375 : 0.8393338406085968, Time: 29.02246618270874\n",
      "Running average loss at batch 400 : 0.7726092684268951, Time: 29.10650086402893\n",
      "Running average loss at batch 425 : 0.7529618763923644, Time: 31.415279865264893\n",
      "Running average loss at batch 450 : 0.8111298775672913, Time: 30.72929096221924\n",
      "Running average loss at batch 475 : 0.8038091516494751, Time: 30.483495950698853\n",
      "Running average loss at batch 500 : 0.7981217932701111, Time: 29.282766819000244\n",
      "Running average loss at batch 525 : 0.759028570652008, Time: 30.379806995391846\n",
      "Running average loss at batch 550 : 0.8015640950202942, Time: 29.846834897994995\n",
      "Running average loss at batch 575 : 0.7059666907787323, Time: 28.958873987197876\n",
      "Running average loss at batch 600 : 0.8136803889274598, Time: 29.11128282546997\n",
      "Running average loss at batch 625 : 0.7870639955997467, Time: 30.328147888183594\n",
      "Running average loss at batch 650 : 0.7696581006050109, Time: 29.887484788894653\n",
      "Running average loss at batch 675 : 0.7709332013130188, Time: 29.253796100616455\n",
      "Running average loss at batch 700 : 0.8187880110740662, Time: 30.20911693572998\n",
      "Running average loss at batch 725 : 0.8320467782020569, Time: 29.233532190322876\n",
      "Running average loss at batch 750 : 0.7214439177513122, Time: 30.07599377632141\n",
      "Last train loss:  0.7214439177513122\n",
      "Starting Model Testing...\n"
     ]
    },
    {
     "name": "stderr",
     "output_type": "stream",
     "text": [
      "100%|███████████████████████████████████████████████████████████████████████████████████████████████████| 193/193 [01:12<00:00,  2.67it/s]\n"
     ]
    },
    {
     "name": "stdout",
     "output_type": "stream",
     "text": [
      "Mean test loss:  0.8670201105466161\n",
      "Losses for individual classes: {tensor(0): 0.5707183545352347, tensor(1): 0.8557368952992768, tensor(2): 1.1114459519262438, tensor(3): 0.5440406867409827, tensor(4): 1.1696178522212946}\n",
      "Saving model...\n",
      "Model saved\n",
      "------------------------------------------------------------\n",
      "Epoch  10\n",
      "Starting Model Training...\n",
      "Running average loss at batch 25 : 0.7745092010498047, Time: 31.574887990951538\n",
      "Running average loss at batch 50 : 0.7905156874656677, Time: 30.00316309928894\n",
      "Running average loss at batch 75 : 0.7802384519577026, Time: 29.271023988723755\n",
      "Running average loss at batch 100 : 0.7290486240386963, Time: 30.052528142929077\n",
      "Running average loss at batch 125 : 0.8363538563251496, Time: 30.175158977508545\n",
      "Running average loss at batch 150 : 0.7029345083236694, Time: 29.21470284461975\n",
      "Running average loss at batch 175 : 0.7404656720161438, Time: 29.037434816360474\n",
      "Running average loss at batch 200 : 0.7636930525302887, Time: 29.517770051956177\n",
      "Running average loss at batch 225 : 0.7415093290805816, Time: 30.107640266418457\n",
      "Running average loss at batch 250 : 0.7778569626808166, Time: 29.673147201538086\n",
      "Running average loss at batch 275 : 0.7865751457214355, Time: 28.921185970306396\n",
      "Running average loss at batch 300 : 0.7626632750034332, Time: 28.94337773323059\n",
      "Running average loss at batch 325 : 0.7299445295333862, Time: 30.98974084854126\n",
      "Running average loss at batch 350 : 0.7645376777648926, Time: 31.58963918685913\n",
      "Running average loss at batch 375 : 0.8415421164035797, Time: 30.551702976226807\n",
      "Running average loss at batch 400 : 0.7749536919593811, Time: 31.287962913513184\n",
      "Running average loss at batch 425 : 0.7817254102230072, Time: 30.52100682258606\n",
      "Running average loss at batch 450 : 0.7296113872528076, Time: 30.64348793029785\n",
      "Running average loss at batch 475 : 0.7242477715015412, Time: 29.37261700630188\n",
      "Running average loss at batch 500 : 0.7494718956947327, Time: 29.492918968200684\n",
      "Running average loss at batch 525 : 0.7286018979549408, Time: 29.076496124267578\n",
      "Running average loss at batch 550 : 0.7529322648048401, Time: 29.538004875183105\n",
      "Running average loss at batch 575 : 0.7842976355552673, Time: 29.237106800079346\n",
      "Running average loss at batch 600 : 0.8181087052822114, Time: 29.28813099861145\n",
      "Running average loss at batch 625 : 0.8146577453613282, Time: 29.13441801071167\n",
      "Running average loss at batch 650 : 0.7251788079738617, Time: 29.29598593711853\n",
      "Running average loss at batch 675 : 0.6937949335575104, Time: 30.347036361694336\n",
      "Running average loss at batch 700 : 0.6874228298664093, Time: 29.73005700111389\n",
      "Running average loss at batch 725 : 0.8046410369873047, Time: 29.38929510116577\n",
      "Running average loss at batch 750 : 0.7775608479976654, Time: 29.26798725128174\n",
      "Last train loss:  0.7775608479976654\n",
      "Starting Model Testing...\n"
     ]
    },
    {
     "name": "stderr",
     "output_type": "stream",
     "text": [
      "100%|███████████████████████████████████████████████████████████████████████████████████████████████████| 193/193 [01:12<00:00,  2.68it/s]\n"
     ]
    },
    {
     "name": "stdout",
     "output_type": "stream",
     "text": [
      "Mean test loss:  0.8587854177222969\n",
      "Losses for individual classes: {tensor(0): 0.6196525588066657, tensor(1): 0.8764348423799943, tensor(2): 1.061098733583054, tensor(3): 0.605033055662376, tensor(4): 1.0870194829899613}\n",
      "Saving model...\n",
      "Model saved\n",
      "------------------------------------------------------------\n",
      "Epoch  11\n",
      "Starting Model Training...\n",
      "Running average loss at batch 25 : 0.7805898070335389, Time: 30.707478761672974\n",
      "Running average loss at batch 50 : 0.7230355882644653, Time: 29.40225601196289\n",
      "Running average loss at batch 75 : 0.6954945528507233, Time: 29.082183837890625\n",
      "Running average loss at batch 100 : 0.794986116886139, Time: 30.595723152160645\n",
      "Running average loss at batch 125 : 0.7548433315753936, Time: 29.382511854171753\n",
      "Running average loss at batch 150 : 0.74522385597229, Time: 30.13541603088379\n",
      "Running average loss at batch 175 : 0.7097259736061097, Time: 29.335975885391235\n",
      "Running average loss at batch 200 : 0.7772066116333007, Time: 29.635420322418213\n",
      "Running average loss at batch 225 : 0.6927085518836975, Time: 28.99404001235962\n",
      "Running average loss at batch 250 : 0.8038999390602112, Time: 29.08326005935669\n",
      "Running average loss at batch 275 : 0.7926519548892975, Time: 29.415695905685425\n",
      "Running average loss at batch 300 : 0.7879728031158447, Time: 29.62377405166626\n",
      "Running average loss at batch 325 : 0.7338586246967316, Time: 29.269832849502563\n",
      "Running average loss at batch 350 : 0.7769793081283569, Time: 29.751624822616577\n",
      "Running average loss at batch 375 : 0.7853302752971649, Time: 30.328267097473145\n",
      "Running average loss at batch 400 : 0.8131791305541992, Time: 29.48293399810791\n",
      "Running average loss at batch 425 : 0.7207948064804077, Time: 30.859535932540894\n",
      "Running average loss at batch 450 : 0.8345656228065491, Time: 29.561283111572266\n",
      "Running average loss at batch 475 : 0.7131270551681519, Time: 29.632843017578125\n",
      "Running average loss at batch 500 : 0.7048067510128021, Time: 30.308370113372803\n",
      "Running average loss at batch 525 : 0.7179568541049958, Time: 29.79461407661438\n",
      "Running average loss at batch 550 : 0.7798748397827149, Time: 29.219475030899048\n",
      "Running average loss at batch 575 : 0.7211449635028839, Time: 29.464925289154053\n",
      "Running average loss at batch 600 : 0.7221795523166656, Time: 29.541912078857422\n",
      "Running average loss at batch 625 : 0.7750076735019684, Time: 29.87531805038452\n",
      "Running average loss at batch 650 : 0.6778456139564514, Time: 31.134185075759888\n",
      "Running average loss at batch 675 : 0.7728565812110901, Time: 30.638243913650513\n",
      "Running average loss at batch 700 : 0.7598538029193879, Time: 29.61466884613037\n",
      "Running average loss at batch 725 : 0.6972828912734985, Time: 29.52970790863037\n",
      "Running average loss at batch 750 : 0.7272198629379273, Time: 29.500531911849976\n",
      "Last train loss:  0.7272198629379273\n",
      "Starting Model Testing...\n"
     ]
    },
    {
     "name": "stderr",
     "output_type": "stream",
     "text": [
      "100%|███████████████████████████████████████████████████████████████████████████████████████████████████| 193/193 [01:12<00:00,  2.67it/s]\n"
     ]
    },
    {
     "name": "stdout",
     "output_type": "stream",
     "text": [
      "Mean test loss:  0.8646038917371028\n",
      "Losses for individual classes: {tensor(0): 0.5935950619632034, tensor(1): 0.8824742983615518, tensor(2): 1.1150941155560605, tensor(3): 0.5615146146079556, tensor(4): 1.1257996823673566}\n",
      "Saving model...\n",
      "Model saved\n",
      "------------------------------------------------------------\n",
      "Epoch  12\n",
      "Starting Model Training...\n",
      "Running average loss at batch 25 : 0.7775204467773438, Time: 30.937830209732056\n",
      "Running average loss at batch 50 : 0.7283130550384521, Time: 30.693571090698242\n",
      "Running average loss at batch 75 : 0.822617713212967, Time: 29.93395972251892\n",
      "Running average loss at batch 100 : 0.7652543985843658, Time: 29.13515591621399\n",
      "Running average loss at batch 125 : 0.7449101221561432, Time: 29.51169514656067\n",
      "Running average loss at batch 150 : 0.7407585799694061, Time: 29.196527004241943\n",
      "Running average loss at batch 175 : 0.698026602268219, Time: 30.415645837783813\n",
      "Running average loss at batch 200 : 0.6995137047767639, Time: 29.575135946273804\n",
      "Running average loss at batch 225 : 0.8053589355945587, Time: 30.807467937469482\n",
      "Running average loss at batch 250 : 0.6663439679145813, Time: 29.52091073989868\n",
      "Running average loss at batch 275 : 0.7429352521896362, Time: 29.360331773757935\n",
      "Running average loss at batch 300 : 0.7009660363197326, Time: 29.57305097579956\n",
      "Running average loss at batch 325 : 0.7675665879249572, Time: 29.73423409461975\n",
      "Running average loss at batch 350 : 0.7569086003303528, Time: 30.533685207366943\n",
      "Running average loss at batch 375 : 0.7007458364963531, Time: 29.50399088859558\n",
      "Running average loss at batch 400 : 0.6950327467918396, Time: 30.579150199890137\n",
      "Running average loss at batch 425 : 0.67481076836586, Time: 32.18186712265015\n",
      "Running average loss at batch 450 : 0.6962800371646881, Time: 32.27502799034119\n",
      "Running average loss at batch 475 : 0.7631991624832153, Time: 32.090445041656494\n",
      "Running average loss at batch 500 : 0.8141394746303559, Time: 32.23089575767517\n",
      "Running average loss at batch 525 : 0.775485702753067, Time: 31.495696783065796\n",
      "Running average loss at batch 550 : 0.7192186880111694, Time: 31.289695024490356\n",
      "Running average loss at batch 575 : 0.779414393901825, Time: 30.707725048065186\n",
      "Running average loss at batch 600 : 0.7057950317859649, Time: 30.52274203300476\n",
      "Running average loss at batch 625 : 0.7579034268856049, Time: 29.540585041046143\n",
      "Running average loss at batch 650 : 0.7396341776847839, Time: 28.94160795211792\n",
      "Running average loss at batch 675 : 0.7337981927394867, Time: 29.625303983688354\n",
      "Running average loss at batch 700 : 0.76673912525177, Time: 30.51493191719055\n",
      "Running average loss at batch 725 : 0.7520792806148529, Time: 30.27694797515869\n",
      "Running average loss at batch 750 : 0.7391431307792664, Time: 29.745962142944336\n",
      "Last train loss:  0.7391431307792664\n",
      "Starting Model Testing...\n"
     ]
    },
    {
     "name": "stderr",
     "output_type": "stream",
     "text": [
      "100%|███████████████████████████████████████████████████████████████████████████████████████████████████| 193/193 [01:12<00:00,  2.67it/s]\n"
     ]
    },
    {
     "name": "stdout",
     "output_type": "stream",
     "text": [
      "Mean test loss:  0.8583064432897716\n",
      "Losses for individual classes: {tensor(0): 0.6335210559821995, tensor(1): 1.0454810948475548, tensor(2): 0.9761250929786013, tensor(3): 0.6930663459002971, tensor(4): 1.001820764807707}\n",
      "Saving model...\n",
      "Model saved\n",
      "------------------------------------------------------------\n",
      "Epoch  13\n",
      "Starting Model Training...\n",
      "Running average loss at batch 25 : 0.7092969191074371, Time: 31.486897945404053\n",
      "Running average loss at batch 50 : 0.7094605255126953, Time: 30.50965690612793\n",
      "Running average loss at batch 75 : 0.7426083850860595, Time: 29.900763034820557\n",
      "Running average loss at batch 100 : 0.7737632489204407, Time: 30.63442373275757\n",
      "Running average loss at batch 125 : 0.6822906398773193, Time: 30.819960832595825\n",
      "Running average loss at batch 150 : 0.7109744560718536, Time: 30.931535005569458\n",
      "Running average loss at batch 175 : 0.6933079946041107, Time: 29.523020029067993\n",
      "Running average loss at batch 200 : 0.7070475673675537, Time: 31.082699060440063\n",
      "Running average loss at batch 225 : 0.732283216714859, Time: 31.8241605758667\n",
      "Running average loss at batch 250 : 0.7198271727561951, Time: 30.438466787338257\n",
      "Running average loss at batch 275 : 0.7672781538963318, Time: 30.101845264434814\n",
      "Running average loss at batch 300 : 0.7907744145393372, Time: 29.81268620491028\n",
      "Running average loss at batch 325 : 0.7819383716583252, Time: 30.08806586265564\n",
      "Running average loss at batch 350 : 0.7520602536201477, Time: 30.98420214653015\n",
      "Running average loss at batch 375 : 0.7507382643222809, Time: 30.973897218704224\n",
      "Running average loss at batch 400 : 0.7598910176753998, Time: 30.877336025238037\n",
      "Running average loss at batch 425 : 0.7502724158763886, Time: 30.282703161239624\n",
      "Running average loss at batch 450 : 0.6969805657863617, Time: 29.634106874465942\n",
      "Running average loss at batch 475 : 0.7013034975528717, Time: 29.838351249694824\n",
      "Running average loss at batch 500 : 0.7132317841053009, Time: 29.44551706314087\n",
      "Running average loss at batch 525 : 0.7433904612064361, Time: 30.019110918045044\n",
      "Running average loss at batch 550 : 0.6696555185317993, Time: 28.93892502784729\n",
      "Running average loss at batch 575 : 0.7635741806030274, Time: 30.249151945114136\n",
      "Running average loss at batch 600 : 0.7172295844554901, Time: 29.509420156478882\n",
      "Running average loss at batch 625 : 0.7671994662284851, Time: 29.340422868728638\n",
      "Running average loss at batch 650 : 0.7473340463638306, Time: 29.16383695602417\n",
      "Running average loss at batch 675 : 0.7379636323451996, Time: 30.079789876937866\n",
      "Running average loss at batch 700 : 0.679467271566391, Time: 29.261913061141968\n",
      "Running average loss at batch 725 : 0.684825268983841, Time: 29.806852102279663\n",
      "Running average loss at batch 750 : 0.7214187109470367, Time: 29.175992012023926\n",
      "Last train loss:  0.7214187109470367\n",
      "Starting Model Testing...\n"
     ]
    },
    {
     "name": "stderr",
     "output_type": "stream",
     "text": [
      "100%|███████████████████████████████████████████████████████████████████████████████████████████████████| 193/193 [01:12<00:00,  2.67it/s]\n"
     ]
    },
    {
     "name": "stdout",
     "output_type": "stream",
     "text": [
      "Mean test loss:  0.8634679405491587\n",
      "Losses for individual classes: {tensor(0): 0.6614225730888463, tensor(1): 0.9327749149954837, tensor(2): 0.9845418190414256, tensor(3): 0.6420095283049541, tensor(4): 1.0627967991423284}\n",
      "Saving model...\n",
      "Model saved\n",
      "------------------------------------------------------------\n",
      "Epoch  14\n",
      "Starting Model Training...\n",
      "Running average loss at batch 25 : 0.6475934755802154, Time: 32.30849289894104\n",
      "Running average loss at batch 50 : 0.7726588952541351, Time: 30.107579231262207\n",
      "Running average loss at batch 75 : 0.7156690096855164, Time: 29.871337890625\n",
      "Running average loss at batch 100 : 0.685978717803955, Time: 29.087994813919067\n",
      "Running average loss at batch 125 : 0.6583772814273834, Time: 29.543779134750366\n",
      "Running average loss at batch 150 : 0.7870082902908325, Time: 29.574587106704712\n",
      "Running average loss at batch 175 : 0.7246316552162171, Time: 29.571223974227905\n",
      "Running average loss at batch 200 : 0.7292926800251007, Time: 29.346237897872925\n",
      "Running average loss at batch 225 : 0.7487605953216553, Time: 29.267412900924683\n",
      "Running average loss at batch 250 : 0.744908492565155, Time: 29.199074029922485\n",
      "Running average loss at batch 275 : 0.6943871390819549, Time: 30.384747982025146\n",
      "Running average loss at batch 300 : 0.7457008385658264, Time: 29.167700052261353\n",
      "Running average loss at batch 325 : 0.7137957632541656, Time: 29.216098070144653\n",
      "Running average loss at batch 350 : 0.7111287891864777, Time: 30.1748149394989\n",
      "Running average loss at batch 375 : 0.7720325791835785, Time: 30.736443758010864\n",
      "Running average loss at batch 400 : 0.6889309251308441, Time: 29.984920024871826\n",
      "Running average loss at batch 425 : 0.698930504322052, Time: 29.838713884353638\n",
      "Running average loss at batch 450 : 0.7405537819862366, Time: 29.714606285095215\n",
      "Running average loss at batch 475 : 0.7123406839370727, Time: 30.083534002304077\n",
      "Running average loss at batch 500 : 0.8005460262298584, Time: 30.262384176254272\n",
      "Running average loss at batch 525 : 0.6677069997787476, Time: 30.212608098983765\n",
      "Running average loss at batch 550 : 0.6921167171001434, Time: 30.441696882247925\n",
      "Running average loss at batch 575 : 0.7160852885246277, Time: 30.254738092422485\n",
      "Running average loss at batch 600 : 0.7205049610137939, Time: 29.779927015304565\n",
      "Running average loss at batch 625 : 0.7472694647312165, Time: 29.523610830307007\n",
      "Running average loss at batch 650 : 0.6828243827819824, Time: 30.88697910308838\n",
      "Running average loss at batch 675 : 0.7199495577812195, Time: 29.563745975494385\n",
      "Running average loss at batch 700 : 0.7530345284938812, Time: 30.13116478919983\n",
      "Running average loss at batch 725 : 0.692151494026184, Time: 29.75053906440735\n",
      "Running average loss at batch 750 : 0.6877096807956695, Time: 30.10098695755005\n",
      "Last train loss:  0.6877096807956695\n",
      "Starting Model Testing...\n"
     ]
    },
    {
     "name": "stderr",
     "output_type": "stream",
     "text": [
      "100%|███████████████████████████████████████████████████████████████████████████████████████████████████| 193/193 [01:12<00:00,  2.67it/s]\n"
     ]
    },
    {
     "name": "stdout",
     "output_type": "stream",
     "text": [
      "Mean test loss:  0.8797105966145511\n",
      "Losses for individual classes: {tensor(0): 0.7125120601288704, tensor(1): 0.8353069002761888, tensor(2): 0.9724213152736813, tensor(3): 0.5611498237816526, tensor(4): 1.1644481194596137}\n",
      "Saving model...\n",
      "Model saved\n",
      "------------------------------------------------------------\n",
      "Epoch  15\n",
      "Starting Model Training...\n",
      "Running average loss at batch 25 : 0.6775058948993683, Time: 32.687029123306274\n",
      "Running average loss at batch 50 : 0.7278174841403962, Time: 30.537492990493774\n",
      "Running average loss at batch 75 : 0.7101786506175994, Time: 29.226326942443848\n",
      "Running average loss at batch 100 : 0.6240986263751984, Time: 30.51653003692627\n",
      "Running average loss at batch 125 : 0.7643059003353119, Time: 30.225380182266235\n",
      "Running average loss at batch 150 : 0.7641644477844238, Time: 30.142374992370605\n",
      "Running average loss at batch 175 : 0.6762126195430755, Time: 30.248417139053345\n",
      "Running average loss at batch 200 : 0.7576944708824158, Time: 29.092849254608154\n",
      "Running average loss at batch 225 : 0.7280871474742889, Time: 29.303910970687866\n",
      "Running average loss at batch 250 : 0.6839950251579284, Time: 29.928770780563354\n",
      "Running average loss at batch 275 : 0.6682132530212402, Time: 29.15188694000244\n",
      "Running average loss at batch 300 : 0.6875033390522003, Time: 29.206471920013428\n",
      "Running average loss at batch 325 : 0.7381886684894562, Time: 29.084192037582397\n",
      "Running average loss at batch 350 : 0.6987373459339142, Time: 30.195621728897095\n",
      "Running average loss at batch 375 : 0.7069190108776092, Time: 28.96108913421631\n",
      "Running average loss at batch 400 : 0.683786119222641, Time: 29.199570894241333\n",
      "Running average loss at batch 425 : 0.718801920413971, Time: 29.752741813659668\n",
      "Running average loss at batch 450 : 0.727113379240036, Time: 30.1315701007843\n",
      "Running average loss at batch 475 : 0.70780646443367, Time: 30.163243770599365\n",
      "Running average loss at batch 500 : 0.6894073128700257, Time: 29.401046991348267\n",
      "Running average loss at batch 525 : 0.7326847565174103, Time: 29.509892225265503\n",
      "Running average loss at batch 550 : 0.7128761565685272, Time: 30.46129012107849\n",
      "Running average loss at batch 575 : 0.7050340187549591, Time: 29.958874225616455\n",
      "Running average loss at batch 600 : 0.6503663873672485, Time: 29.018993139266968\n",
      "Running average loss at batch 625 : 0.648257999420166, Time: 28.89592695236206\n",
      "Running average loss at batch 650 : 0.7219642341136933, Time: 29.635525226593018\n",
      "Running average loss at batch 675 : 0.7108004200458526, Time: 29.437127828598022\n",
      "Running average loss at batch 700 : 0.701566675901413, Time: 29.21796727180481\n",
      "Running average loss at batch 725 : 0.7434978544712066, Time: 29.148699045181274\n",
      "Running average loss at batch 750 : 0.6796034157276154, Time: 31.347069025039673\n",
      "Last train loss:  0.6796034157276154\n",
      "Starting Model Testing...\n"
     ]
    },
    {
     "name": "stderr",
     "output_type": "stream",
     "text": [
      "100%|███████████████████████████████████████████████████████████████████████████████████████████████████| 193/193 [01:12<00:00,  2.67it/s]\n"
     ]
    },
    {
     "name": "stdout",
     "output_type": "stream",
     "text": [
      "Mean test loss:  0.8774626795492024\n",
      "Losses for individual classes: {tensor(0): 0.6102084543020427, tensor(1): 0.9520120007487444, tensor(2): 0.9967723401335927, tensor(3): 0.6227217104866124, tensor(4): 1.139961085042894}\n",
      "Saving model...\n",
      "Model saved\n"
     ]
    }
   ],
   "source": [
    "all_train_loss = []\n",
    "all_test_loss = []\n",
    "all_class_test_losses = {label: [] for label in list(class_map.values())}\n",
    "all_model_paths = []\n",
    "all_model_filenames = []\n",
    "\n",
    "for epoch in range(1, num_epochs+1):\n",
    "    print(\"-\"*60)\n",
    "    print(\"Epoch \", epoch)\n",
    "\n",
    "    # train\n",
    "    print(\"Starting Model Training...\")\n",
    "    last_train_loss = train_one_epoch(train_dataloader, model, loss_fn, optimizer)\n",
    "    print(\"Last train loss: \", last_train_loss)\n",
    "\n",
    "    all_train_loss.append(last_train_loss)\n",
    "\n",
    "    # validation\n",
    "    print(\"Starting Model Testing...\")\n",
    "    mean_test_loss, losses_for_unique_labels = validate_classification_model(test_dataloader, model, loss_fn, device)\n",
    "    print(\"Mean test loss: \", mean_test_loss)\n",
    "    print(f\"Losses for individual classes: {losses_for_unique_labels}\")\n",
    "\n",
    "    all_test_loss.append(mean_test_loss)\n",
    "\n",
    "    # record individual class labels\n",
    "    for label in losses_for_unique_labels:\n",
    "        all_class_test_losses[label.item()].append(losses_for_unique_labels[label])\n",
    "\n",
    "    # saving model\n",
    "    print(\"Saving model...\")\n",
    "    model_save_directory = 'models/'\n",
    "    model_name = f'medical_abstract_bert_epoch_{epoch}_time_{date_n_time()}'\n",
    "    model_path = os.path.join(model_save_directory, model_name)\n",
    "    torch.save(model, model_path)\n",
    "\n",
    "    all_model_filenames.append(model_path)\n",
    "    assert os.path.exists(model_path), 'Model failed to save'\n",
    "    print(\"Model saved\")"
   ]
  },
  {
   "cell_type": "code",
   "execution_count": 30,
   "id": "8d0e05c3-86c5-497c-ae58-43e2665ba33e",
   "metadata": {},
   "outputs": [
    {
     "data": {
      "text/html": [
       "<div>\n",
       "<style scoped>\n",
       "    .dataframe tbody tr th:only-of-type {\n",
       "        vertical-align: middle;\n",
       "    }\n",
       "\n",
       "    .dataframe tbody tr th {\n",
       "        vertical-align: top;\n",
       "    }\n",
       "\n",
       "    .dataframe thead th {\n",
       "        text-align: right;\n",
       "    }\n",
       "</style>\n",
       "<table border=\"1\" class=\"dataframe\">\n",
       "  <thead>\n",
       "    <tr style=\"text-align: right;\">\n",
       "      <th></th>\n",
       "      <th>Train</th>\n",
       "      <th>Test</th>\n",
       "    </tr>\n",
       "  </thead>\n",
       "  <tbody>\n",
       "    <tr>\n",
       "      <th>0</th>\n",
       "      <td>1.071933</td>\n",
       "      <td>1.029902</td>\n",
       "    </tr>\n",
       "    <tr>\n",
       "      <th>1</th>\n",
       "      <td>0.876241</td>\n",
       "      <td>0.920418</td>\n",
       "    </tr>\n",
       "    <tr>\n",
       "      <th>2</th>\n",
       "      <td>0.861395</td>\n",
       "      <td>0.896067</td>\n",
       "    </tr>\n",
       "    <tr>\n",
       "      <th>3</th>\n",
       "      <td>0.867330</td>\n",
       "      <td>0.883147</td>\n",
       "    </tr>\n",
       "    <tr>\n",
       "      <th>4</th>\n",
       "      <td>0.777833</td>\n",
       "      <td>0.871016</td>\n",
       "    </tr>\n",
       "  </tbody>\n",
       "</table>\n",
       "</div>"
      ],
      "text/plain": [
       "      Train      Test\n",
       "0  1.071933  1.029902\n",
       "1  0.876241  0.920418\n",
       "2  0.861395  0.896067\n",
       "3  0.867330  0.883147\n",
       "4  0.777833  0.871016"
      ]
     },
     "execution_count": 30,
     "metadata": {},
     "output_type": "execute_result"
    }
   ],
   "source": [
    "df_losses = pd.DataFrame({'Train': all_train_loss, 'Test': all_test_loss})\n",
    "df_losses.head()"
   ]
  },
  {
   "cell_type": "code",
   "execution_count": 31,
   "id": "cc0355ef-f950-4e26-ac99-d4cd324062dd",
   "metadata": {},
   "outputs": [
    {
     "data": {
      "text/plain": [
       "Text(0.5, 1.0, 'Train and Test Loss for Medical Abstract Classification with BERT')"
      ]
     },
     "execution_count": 31,
     "metadata": {},
     "output_type": "execute_result"
    },
    {
     "data": {
      "image/png": "[encoded data removed]",
      "text/plain": [
       "<Figure size 640x480 with 1 Axes>"
      ]
     },
     "metadata": {},
     "output_type": "display_data"
    }
   ],
   "source": [
    "sns.set_style(\"darkgrid\")\n",
    "sns.lineplot(data=df_losses[['Train', 'Test']], palette='hls', dashes=False)\n",
    "plt.ylabel('Cross-Entropy Loss')\n",
    "plt.xlabel('Epoch')\n",
    "plt.title('Train and Test Loss for Medical Abstract Classification with BERT')\n",
    "\n",
    "# filename_train_and_valid=\"Train and Validation Loss for Immune Cell Image Classification Using Transfer Learning on Resnet-18\".replace(\" \", \"_\")\n",
    "# plt.savefig(fname=filename_train_and_valid, dpi=1000)"
   ]
  },
  {
   "cell_type": "code",
   "execution_count": 39,
   "id": "51daf58b-183d-42f6-aa8b-06be6ffeb0d7",
   "metadata": {},
   "outputs": [
    {
     "data": {
      "text/plain": [
       "Train    0.745705\n",
       "Test     0.855338\n",
       "Name: 7, dtype: float64"
      ]
     },
     "execution_count": 39,
     "metadata": {},
     "output_type": "execute_result"
    }
   ],
   "source": [
    "# obtaining the minimum test loss\n",
    "df_losses.iloc[df_losses.Test.argmin()]"
   ]
  },
  {
   "cell_type": "code",
   "execution_count": 41,
   "id": "7bc2055c-9d59-4063-9c04-33cbdbc3be16",
   "metadata": {},
   "outputs": [],
   "source": [
    "# reloading the best-performing model from epoch 8\n",
    "model = torch.load('models/medical_abstract_bert_epoch_8_time_25_06_2024_00_45_12')"
   ]
  },
  {
   "cell_type": "code",
   "execution_count": 32,
   "id": "97f0f66a-43dd-4f37-ad83-5fb0640fa02d",
   "metadata": {},
   "outputs": [],
   "source": [
    "def classification_accuracy(dataloader, model):\n",
    "    \"\"\"Compute the proportion of correct predictions for a given model on a given dataset.\n",
    "    Outputs are considered correct if the model's highest output index matches the target label.\n",
    "\n",
    "    Args:\n",
    "        dataloader (torch.utils.data.DataLoader): pytorch dataloader object\n",
    "        model (torch.nn.Module): pytorch model object\n",
    "\n",
    "    Returns:\n",
    "        p_correct (float): proportion of correct predictions\n",
    "    \"\"\"\n",
    "    # set model to evaluation mode\n",
    "    model.eval()\n",
    "\n",
    "    total_correct = 0\n",
    "    total_samples = len(dataloader.dataset)\n",
    "\n",
    "    for batch in tqdm(iter(dataloader)):\n",
    "        # Breaking up batch into components\n",
    "        batch_input_ids = batch['input_ids']\n",
    "        batch_attention_mask = batch['attention_mask']\n",
    "        batch_labels = batch['label']\n",
    "\n",
    "        # Make predictions for this batch\n",
    "        batch_outputs = model(batch_input_ids, batch_attention_mask).detach()\n",
    "        \n",
    "        # Obtaining model consensus\n",
    "        batch_consensus = torch.argmax(batch_outputs, dim=1)\n",
    "        total_correct += sum(batch_consensus == batch_labels).item() # get num targets that match consensus\n",
    "\n",
    "    p_correct = total_correct / total_samples\n",
    "\n",
    "    return p_correct"
   ]
  },
  {
   "cell_type": "code",
   "execution_count": 42,
   "id": "4a8f7df2-4f6b-414b-b89c-2fcd18bd10b9",
   "metadata": {},
   "outputs": [
    {
     "name": "stderr",
     "output_type": "stream",
     "text": [
      "100%|█████████████████████████████████████████████████████████████████████████████████████████████████████████| 193/193 [01:14<00:00,  2.58it/s]\n"
     ]
    }
   ],
   "source": [
    "accuracy = classification_accuracy(test_dataloader, model)"
   ]
  },
  {
   "cell_type": "code",
   "execution_count": 43,
   "id": "97178553-02e6-40ab-9c4f-b0267d4fd5a4",
   "metadata": {},
   "outputs": [
    {
     "data": {
      "text/plain": [
       "0.6340027700831025"
      ]
     },
     "execution_count": 43,
     "metadata": {},
     "output_type": "execute_result"
    }
   ],
   "source": [
    "accuracy"
   ]
  }
 ],
 "metadata": {
  "kernelspec": {
   "display_name": "Python 3 (ipykernel)",
   "language": "python",
   "name": "python3"
  },
  "language_info": {
   "codemirror_mode": {
    "name": "ipython",
    "version": 3
   },
   "file_extension": ".py",
   "mimetype": "text/x-python",
   "name": "python",
   "nbconvert_exporter": "python",
   "pygments_lexer": "ipython3",
   "version": "3.12.3"
  }
 },
 "nbformat": 4,
 "nbformat_minor": 5
}
